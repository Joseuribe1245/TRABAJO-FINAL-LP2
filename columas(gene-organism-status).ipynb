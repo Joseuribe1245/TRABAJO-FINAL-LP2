{
 "cells": [
  {
   "cell_type": "code",
   "execution_count": 2,
   "metadata": {},
   "outputs": [],
   "source": [
    "import pandas as pd\n",
    "import numpy as np\n",
    "import matplotlib.pyplot as ptl\n",
    "import seaborn as sns\n",
    "from bs4 import BeautifulSoup \n",
    "import requests\n",
    "import re\n",
    "import urllib.request, urllib.parse, urllib.error"
   ]
  },
  {
   "cell_type": "code",
   "execution_count": 10,
   "metadata": {},
   "outputs": [
    {
     "name": "stdout",
     "output_type": "stream",
     "text": [
      "['Na', 'Ubiquitin carboxyl-terminal hydrolase 33', 'Na', 'Na', 'Na', 'Na', 'Na', 'Integrin-associated protein', 'Intraflagellar transport protein 57 homolog', 'HERV-H LTR-associating 2', 'Myosin heavy chain 15', 'Myc proto-oncogene protein', 'RING-type E3 ubiquitin transferase', 'Phosphatidylinositol 3-kinase regulatory subunit alpha', 'CW-type domain-containing protein', 'Na', 'Na', 'Na']\n",
      "['Na', 'USP33', 'Na', 'Na', 'Na', 'Na', 'Na', 'CD47', 'IFT57', 'HHLA2', 'MYH15', 'MYC', 'DZIP3', 'PIK3R1', 'MORC1', 'Na', 'Na', 'Na']\n",
      "['Na', 'Bos taurus (Bovine)', 'Na', 'Na', 'Na', 'Na', 'Na', 'Bos indicus x Bos taurus (Hybrid cattle)', 'Bos taurus (Bovine)', 'Bos taurus (Bovine)', 'Bos taurus (Bovine)', 'Bos taurus (Bovine)', 'Bos taurus (Bovine)', 'Bos taurus (Bovine)', 'Bos indicus x Bos taurus (Hybrid cattle)', 'Na', 'Na', 'Na']\n",
      "['Na', 'Reviewed', 'Na', 'Na', 'Na', 'Na', 'Na', 'Unreviewed', 'Reviewed', 'Unreviewed', 'Unreviewed', 'Reviewed', 'Unreviewed', 'Reviewed', 'Unreviewed', 'Na', 'Na', 'Na']\n"
     ]
    }
   ],
   "source": [
    "gene = []\n",
    "for i in range(11):\n",
    "    if i == 0:\n",
    "        data = pd.read_excel(\"Genes identificados con vecinos.xlsx\",\n",
    "                    sheet_name=i,\n",
    "                     index_col=\"N°\",\n",
    "                    skiprows=4)\n",
    "    else:\n",
    "        data = pd.read_excel(\"Genes identificados con vecinos.xlsx\",\n",
    "                        sheet_name=i,\n",
    "                         index_col=\"N°\",\n",
    "                        skiprows=1)\n",
    "    data.to_csv(\"genes.csv\")\n",
    "    \n",
    "    ef = pd.read_csv('genes.csv')\n",
    "    gene.extend(list(ef[\"Gen Abrev\"]))\n",
    "gene1 =[]\n",
    "#print(len(gene))\n",
    "for i in range(18):\n",
    "    gene1.append(gene[i])\n",
    "    \n",
    "Entry = []\n",
    "Entry_name = []\n",
    "Protrein = []\n",
    "Gene = []\n",
    "Organism = []\n",
    "Status = []\n",
    "\n",
    "#gene1 = tiene que ser la lista con todos los genesabrev\n",
    "for i in gene1:\n",
    "    URL=str(i) #\n",
    "    URL= \"https://www.uniprot.org/uniprot/?query=\"+i+\"+Bos+taurus&sort=score\"\n",
    "    html = requests.get(URL)\n",
    "    soup = BeautifulSoup(html.content, 'html.parser')\n",
    "    \n",
    "    c =soup.find(\"table\",{\"class\":\"grid\"})\n",
    "    \n",
    "    if c != None : \n",
    "        entry = c.findAll(\"td\" , {\"class\":\"entryID\"})[0].find(\"a\").text\n",
    "        entry_name = c.findAll(\"td\")[3].text\n",
    "        Entry.append(entry)\n",
    "        Entry_name.append(entry_name)\n",
    "        url = \"https://www.uniprot.org/uniprot/\"+entry\n",
    "        html = requests.get(url)\n",
    "        soup = BeautifulSoup(html.content, 'html.parser')\n",
    "       \n",
    "        f =soup.find(\"div\",{\"id\":\"entry-overview\"})\n",
    "        #Protrein\n",
    "        protrein = f.find(\"div\" , {\"id\":\"content-protein\"}).find(\"h1\").text\n",
    "        Protrein.append(protrein)\n",
    "        #Gene\n",
    "        gene = f.find(\"div\", {\"id\":\"content-gene\"}).find(\"h2\").text\n",
    "        Gene.append(gene)\n",
    "        #Organism\n",
    "        organism = f.find(\"div\", {\"id\":\"content-organism\"}).find(\"em\").text\n",
    "        Organism.append(organism)\n",
    "        #Status\n",
    "        status = f.find(\"div\", {\"id\":\"content-status\"}).find(\"a\").find(\"span\").text\n",
    "        Status.append(status)\n",
    "        \n",
    "    else : \n",
    "        Entry.append(\"Na\")\n",
    "        Entry_name .append(\"Na\")\n",
    "        Protrein.append(\"Na\")\n",
    "        Gene.append(\"Na\")\n",
    "        Organism.append(\"Na\")\n",
    "        Status.append(\"Na\")\n",
    "        \n",
    "    \n",
    "\n",
    "print(Protrein)\n",
    "print(Gene)\n",
    "print(Organism)\n",
    "print(Status)"
   ]
  },
  {
   "cell_type": "code",
   "execution_count": null,
   "metadata": {},
   "outputs": [],
   "source": []
  }
 ],
 "metadata": {
  "kernelspec": {
   "display_name": "Python 3",
   "language": "python",
   "name": "python3"
  },
  "language_info": {
   "codemirror_mode": {
    "name": "ipython",
    "version": 3
   },
   "file_extension": ".py",
   "mimetype": "text/x-python",
   "name": "python",
   "nbconvert_exporter": "python",
   "pygments_lexer": "ipython3",
   "version": "3.8.5"
  }
 },
 "nbformat": 4,
 "nbformat_minor": 4
}
