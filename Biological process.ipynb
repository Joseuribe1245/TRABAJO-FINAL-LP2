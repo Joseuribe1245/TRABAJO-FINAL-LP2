{
 "cells": [
  {
   "cell_type": "code",
   "execution_count": 1,
   "metadata": {},
   "outputs": [],
   "source": [
    "import pandas as pd\n",
    "import numpy as np\n",
    "import matplotlib.pyplot as ptl\n",
    "import seaborn as sns\n",
    "from urllib.request import urlopen\n",
    "from bs4 import BeautifulSoup as soup\n",
    "import requests"
   ]
  },
  {
   "cell_type": "code",
   "execution_count": 2,
   "metadata": {},
   "outputs": [],
   "source": [
    "import pandas as pd\n",
    "import numpy as np\n",
    "import matplotlib.pyplot as ptl\n",
    "import seaborn as sns\n",
    "from bs4 import BeautifulSoup \n",
    "import requests\n",
    "import re\n",
    "import urllib.request, urllib.parse, urllib.error\n",
    "from urllib.request import urlopen"
   ]
  },
  {
   "cell_type": "code",
   "execution_count": 3,
   "metadata": {},
   "outputs": [
    {
     "name": "stdout",
     "output_type": "stream",
     "text": [
      "['axon guidance. cell migration. cellular response to starvation. centrosome duplication. endocytosis. negative regulation of protein binding. positive regulation of protein binding. protein deubiquitination. protein K48-linked deubiquitination. protein K63-linked deubiquitination. protein stabilization. regulation of autophagy. regulation of G protein-coupled receptor signaling pathway. ubiquitin-dependent protein catabolic process', 'ATP export. cellular response to interleukin-12. inflammatory response. monocyte aggregation. opsonization. positive regulation of cell population proliferation. positive regulation of inflammatory response. positive regulation of phagocytosis. positive regulation of T cell activation. regulation of interferon-gamma production. regulation of interleukin-10 production. regulation of interleukin-12 production. regulation of interleukin-6 production. regulation of nitric oxide biosynthetic process. regulation of tumor necrosis factor production. response to bacterium', 'activation of cysteine-type endopeptidase activity involved in apoptotic process. apoptotic process. intraciliary transport. non-motile cilium assembly. regulation of apoptotic process', 'positive regulation of activated T cell proliferation. positive regulation of cytokine production. regulation of cytokine production. T cell costimulation. T cell receptor signaling pathway', 'na', 'activation of cysteine-type endopeptidase activity involved in apoptotic process. cellular iron ion homeostasis. cellular response to DNA damage stimulus. chromatin remodeling. chromosome organization. intrinsic apoptotic signaling pathway. MAPK cascade. negative regulation of apoptotic process. negative regulation of cell division. negative regulation of monocyte differentiation. negative regulation of stress-activated MAPK cascade. positive regulation of cell population proliferation. positive regulation of cysteine-type endopeptidase activity involved in apoptotic process. positive regulation of DNA biosynthetic process. positive regulation of epithelial cell proliferation. positive regulation of fibroblast proliferation. positive regulation of response to DNA damage stimulus. positive regulation of transcription, DNA-templated. positive regulation of transcription by RNA polymerase II. regulation of apoptotic process. regulation of somatic stem cell population maintenance. regulation of telomere maintenance. regulation of transcription, DNA-templated. regulation of transcription by RNA polymerase II. response to drug. response to gamma radiation. response to radiation']\n"
     ]
    }
   ],
   "source": [
    "genes = [\"TRNAG-UCC\" , \"ROBO1\",\"TRNAC-GCA\",\"TRNAC-ACA\",\"MIR2286\",\"LOC101910021\",\"LOC112447295\",\"CD47\",\"IFT57\",\"HHLA2\",\n",
    "         \"MYH15\",\"CIP2A\"]\n",
    "#html = urllib.request.urlopen(\"https://www.uniprot.org/\").read()\n",
    "\n",
    "#https://www.uniprot.org/uniprot/?query=ROBO1+Bos+taurus&sort=score\n",
    "\n",
    "Entry = []\n",
    "Entry_name = []\n",
    "Biology = []\n",
    "\n",
    "for i in genes:\n",
    "    URL=str(i) #\n",
    "    URL= \"https://www.uniprot.org/uniprot/?query=\"+i+\"+Bos+taurus&sort=score\"\n",
    "    html = requests.get(URL)\n",
    "    soup = BeautifulSoup(html.content, 'html.parser')\n",
    "    \n",
    "    \n",
    "    c =soup.find(\"table\",{\"class\":\"grid\"})\n",
    "    \n",
    "    if c != None : \n",
    "        entry = c.findAll(\"td\" , {\"class\":\"entryID\"})[0].find(\"a\").text\n",
    "        entry_name = c.findAll(\"td\")[3].text\n",
    "        Entry.append(entry)\n",
    "        Entry_name.append(entry_name)\n",
    "        \n",
    "        url = \"https://www.uniprot.org/uniprot/\"+str(entry)\n",
    "        html = requests.get(url)\n",
    "        soup1 = BeautifulSoup(html.content, 'html.parser')\n",
    "        \n",
    "        function = soup1.find(\"div\", id=\"function\")\n",
    "        if function != None:\n",
    "            etiquetas2 = function.find(\"ul\", class_=\"noNumbering biological_process\")\n",
    "\n",
    "            if etiquetas2 != None:\n",
    "                biological = etiquetas2.findAll(\"a\",href=re.compile(\"https://www.ebi.ac.uk\"))\n",
    "\n",
    "                h=[]\n",
    "                for i in biological:\n",
    "                    h.append(i.text)\n",
    "                h = str(\". \".join(h))\n",
    "                Biology.append(h)\n",
    "            else:\n",
    "                Biology.append(\"na\")\n",
    "print(Biology)"
   ]
  },
  {
   "cell_type": "code",
   "execution_count": null,
   "metadata": {},
   "outputs": [],
   "source": []
  }
 ],
 "metadata": {
  "kernelspec": {
   "display_name": "Python 3",
   "language": "python",
   "name": "python3"
  },
  "language_info": {
   "codemirror_mode": {
    "name": "ipython",
    "version": 3
   },
   "file_extension": ".py",
   "mimetype": "text/x-python",
   "name": "python",
   "nbconvert_exporter": "python",
   "pygments_lexer": "ipython3",
   "version": "3.8.5"
  }
 },
 "nbformat": 4,
 "nbformat_minor": 4
}
