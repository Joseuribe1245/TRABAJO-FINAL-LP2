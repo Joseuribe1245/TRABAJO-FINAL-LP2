{
 "cells": [
  {
   "cell_type": "code",
   "execution_count": 47,
   "metadata": {},
   "outputs": [],
   "source": [
    "#IMPORTANDO LIBRERIAS\n",
    "import pandas as pd\n",
    "import numpy as np\n",
    "import matplotlib.pyplot as ptl\n",
    "import seaborn as sns\n",
    "from bs4 import BeautifulSoup \n",
    "import requests\n",
    "import re\n",
    "import urllib.request, urllib.parse, urllib.error"
   ]
  },
  {
   "cell_type": "code",
   "execution_count": 42,
   "metadata": {},
   "outputs": [],
   "source": [
    "#Explorando el archivo\n",
    "genes = []\n",
    "\n",
    "for i in range(11):  #las 11hojas del excel\n",
    "    if i == 0:\n",
    "        data = pd.read_excel(\"Genes identificados con vecinos.xlsx\",\n",
    "                    sheet_name=i,\n",
    "                     index_col=\"N°\",\n",
    "                    skiprows=4)\n",
    "    else:\n",
    "        data = pd.read_excel(\"Genes identificados con vecinos.xlsx\",\n",
    "                        sheet_name=i,\n",
    "                         index_col=\"N°\",\n",
    "                        skiprows=1)\n",
    "    data.to_csv(\"genes.csv\") #convierte en csv\n",
    "    \n",
    "    ef = pd.read_csv('genes.csv')\n",
    "    genes.extend(list(ef[\"Gen Abrev\"]))\n"
   ]
  },
  {
   "cell_type": "code",
   "execution_count": 18,
   "metadata": {},
   "outputs": [
    {
     "name": "stdout",
     "output_type": "stream",
     "text": [
      "['TRNAG-UCC', 'ROBO1', 'TRNAC-GCA', 'TRNAC-ACA', 'MIR2286', 'LOC101910021', 'LOC112447295', 'CD47', 'IFT57', 'HHLA2', 'MYH15', 'CIP2A', 'DZIP3', 'TRAT1', 'MORC1', 'C1H3orf85', 'LOC112448290', 'LOC101903052', 'DPPA2', 'DPPA4', 'LOC100337136', 'LOC783844', 'RTP4', 'MASP1', 'RTP1', 'LOC100847189', 'ST6GAL1', 'MIR2285K-3', 'ADIPOQ', 'RFC4', 'EIF4A2', 'MIR1248-1', 'KNG1', 'HRG', 'FETUB', 'AHSG', 'LOC101906884', 'DNAJB11', 'TBCCD1', 'CRYGS', 'DGKG', 'ETV5', 'LOC616971', 'TRA2B', 'TRNAE-UUC', 'IGF2BP2', 'SENP2', 'LIPH', 'TMEM41A', 'MAP3K13', 'EHHADH', 'EPHB1', 'KY', 'CEP63', 'ANAPC13', 'AMOTL2', 'RYK', 'SLCO2A1', 'RAB6B', 'TF', 'LOC525947', 'TOPBP1', 'RIPK4', 'PRDM15', 'C2CD2', 'ZBTB21', 'UMODL1', 'ABCG1', 'TFF3', 'TFF2', 'TFF1', 'TMPRSS3', 'UBASH3A', 'RSPH1', 'SLC37A1', 'PDE9A', 'WDR4', 'NDUFV3', 'PKNOX1', 'CBS', 'U2AF1', 'CRYAA', 'SIK1', 'HSF2BP', 'RRP1B', 'PDXK', 'CSTB', 'RRP1', 'AGPAT3', 'KCNH7', 'GCA', 'IFIH1', 'FAP', 'GCG', 'DPP4', 'SLC4A10', 'TBR1', 'PSMD14', 'TRNAL-CAA', 'TANK', 'NXPH2', 'SPOPL', 'HNMT', 'THSD7B', 'TRNAC-GCA ', 'CXCR4', 'DARS', 'MCM6', 'LCT', 'UBXN4', 'R3HDM1', 'MIR128-1', 'ZRANB3', 'RAB3GAP1', 'MAP3K19', 'CCNT2', 'ACMSD', 'TMEM163', 'MGAT5', 'NCKAP5', 'LYPD1', 'GPR39', 'SLC35F5', 'ACTR3', 'DPP10', 'GLULP (GLUL)', 'CREB1', 'METTL21A', 'CCNYL1', 'FZD5', 'PLEKHM3', 'CRYGD', 'CRYGC', 'CRYGB', 'CRYGA', 'C2H2 or f80 (c2orf80)', 'IDH1', 'PIKFYVE', 'PTH2R', 'MAP2', 'MREG', 'TMEM169', 'PECR', 'XRCC5', 'MARCH4', 'SMARCAL1', 'RPL37A', 'IGFBP2', 'IGFBP5', 'TNP1', 'TNS1', 'MIR2356', 'RUFY4', 'CXCR2', 'CXCR1', 'ARPC2', 'GPBAR1', 'AAMP', 'PNKD', 'TMBIM1', 'CATIP', 'SLC11A1', 'CTDSP1', 'MIR26B', 'VIL1', 'USP37', 'CNOT9', 'PLCD4', 'ZNF142', 'BCS1L', 'RNF25', 'STK36', 'TTLL4', 'CYP27A1', 'PRKAG3', 'WNT6', 'WNT10A', 'CDK5R2', 'FEV', 'CRYBA2', 'MIR375', 'CFAP65', 'IHH', 'NHEJ1', 'SLC23A3', 'CNPPD1', 'RETREG2', 'ZFAND2B', 'ABCB6', 'ATG9A', 'ANKZF1', 'GLB1L', 'STK16', 'TUBA4A', 'TUBA1D', 'DNAJB2', 'PTPRN', 'MIR153-1', 'RESP18', 'DNPEP', 'DES', 'SPEG', 'GMPPA', 'ASIC4', 'CHPF', 'TMEM198', 'OBSL1', 'INHA', 'TNS2', 'MIR2357', 'PTPRU', 'MECR', 'SRSF4', 'TMEM200B', 'EPB41', 'OPRD1', 'YTHDF2', 'GMEB1', 'TAF12', 'RAB42', 'SNHG12', 'TRNAU1AP', 'RCC1', 'SNHG3', 'PHACTR4', 'MED18', 'SESN2', 'ATP5IF1', 'DNAJC8', 'PTAFR', 'EYA3', 'XKR8', 'SMPDL3B', 'RPA2', 'THEMIS2', 'PPP1R8', 'STX12', 'FAM76A', 'IFI6', 'FGR', 'AHDC1', 'WASF2', 'GPR3', 'CD164L2', 'FCN3', 'MAP3K6', 'SYTL1', 'TMEM222', 'WDTC1', 'TRNAE-UUC', 'SLC9A1', 'NUF2', 'RGS5', 'RGS4', 'CCDC190', 'HSD17B7', 'DDR2', 'UAP1', 'UHMK1', 'TRNAD-GUC', 'SH2D1B', 'C3H1orf226 (c1orf226)', 'SPATA46', 'NOS1AP', 'OLFML2B', 'ATF6', 'TSACC', 'CCT3', 'GLMP', 'TMEM79', 'SMG5', 'PAQR6', 'BGLAP', 'PMF1', 'SLC25A44', 'SEMA4A', 'LMNA', 'MEX3A', 'RAB25', 'LAMTOR2', 'UBQLN4', 'SSR2', 'ARHGEF2', 'RXFP4', 'KHDC4', 'RIT1', 'SYT11', 'GON4L', 'MSTO1', 'DAP3', 'ASH1L', 'RUSC1', 'FDPS', 'PKLR', 'HCN3', 'CLK2', 'SCAMP3', 'FAM189B', 'GBA', 'MTX1', 'THBS3', 'MUC1', 'TRIM46', 'KRTCAP2', 'DPM3', 'SLC50A1', 'EFNA1', 'EFNA3', 'EFNA4', 'ADAM15', 'DCST1', 'DCST2', 'ZBTB7B', 'LENEP', 'FLAD1', 'CKS1B', 'SHC1', 'PYGO2', 'PBXIP1', 'PMVK', 'KCNN3', 'ADAR', 'CHRNB2', 'UBE2Q1', 'TDRD10', 'SHE', 'IL6R', 'ATP8B2', 'AQP10', 'HAX1', 'UBAP2L', 'C3H1orf43(c1orf43)', 'C3H1orf189(c1orf189)', 'TPM3', 'NUP210L', 'RPS27', 'RAB13', 'JTB', 'CREB3L4', 'TRNAE-UUC', 'VTCN1', 'TRIM45', 'TTF2', 'CD101', 'PTGFRN', 'CD2', 'IGSF3', 'CD58', 'ATP1A1', 'MAB21L3', 'SLC22A15', 'NHLH2', 'CASQ2', 'VANGL1', 'NGF', 'TSPAN2', 'TSHB', 'SYCP1', 'SIKE1', 'CSDE1', 'NRAS', 'SNX7', 'MIR137', 'DPYD', 'PTBP2', 'F3', 'ABCD3', 'ARHGAP29', 'ABCA4', 'GCLM', 'DNTTIP2', 'TRNAR-UCU', 'MIR760', 'BCAR3', 'FNBP1L', 'DR1', 'CCDC18', 'TMED5', 'MTF2', 'FAM69A', 'RPL5', 'EVI5', 'TRNAC-ACA', 'GFI1', 'RPAP2', 'GLMN', 'C3H1orf146', 'BTBD8', 'TRNAE-UUC', 'ZNF644', 'MIR2285B-2', 'BARHL2', 'TRNAC-GCA', 'ZNF326', 'LRRC8D', 'MIR2285K-5', 'LRRC8C', 'LRRC8B', 'GBP6', 'GBP5', 'GBP4', 'HS2ST1', 'SELENOF', 'SH3GLB1', 'TRNAC-GCA', 'CLCA3', 'CLCA4', 'CLCA1', 'CLCA2', 'ODF2L', 'COL24A1', 'ZNHIT6', 'CYR61', 'DDAH1', 'BCL10', 'SYDE2', 'WDR63', 'TRNAW-CCA', 'MCOLN3', 'MCOLN2', 'LPAR3', 'WLS', 'TRNAD-GUC', 'DIRAS3', 'GNG12', 'GADD45A', 'TRNAW-CCA', 'SERBP1', 'IL12RB2', 'IL23R', 'C3H1orf141', 'SLC35D1', 'MIER1', 'WDR78', 'INSL5', 'TCTEX1D1', 'SGIP1', 'PDE4B', 'USP24', 'BSND', 'TMEM61', 'DHCR24', 'LEXM', 'TTC22', 'PARS2', 'TTC4', 'MROH7', 'FAM151A', 'ACOT11', 'SSBP3', 'MRPL37', 'CYB5RL', 'CDCP2', 'TCEANC2', 'TMEM59', 'LDLRAD1', 'LRRC42', 'HSPB11', 'CDKN2C', 'FAF1', 'DMRTA2', 'ELAVL4', 'AGBL4', 'BEND5', 'SPATA6', 'TRNAT-AGU', 'SLC5A9', 'SKINT1 (SKINT1L)', 'TRNAR-ACG', 'TRABD2B', 'SLC2A1', 'ZNF691', 'ERMAP', 'SVBP', 'TMEM269', 'C3H1orf50', 'P3H1', 'CLDN19', 'YBX1', 'PPIH', 'CCDC30', 'PPCS', 'ZMYND12', 'RIMKLA', 'FOXJ3', 'GUCA2A', 'GUCA2B', 'HIVEP3', 'EDN2', 'FOXO6', 'SCMH1', 'SLFNL1', 'CTPS1', 'CITED4', 'KCNQ4', 'NFYC', 'MIR30C(mir30c)', 'MIR30E', 'RIMS3', 'ZNF684', 'EXO5', 'ZFP69', 'ZSCAN20', 'EFHD1', 'GIGYF2', 'KCNJ13', 'SNORC', 'NGEF', 'NEU2', 'INPP5D', 'ATG16L1', 'SAG', 'DGKD', 'USP40', 'UGT1A6', 'DNAJB3', 'UGT1A1', 'MROH2A', 'HJURP', 'TRPM8', 'SPP2', 'ARL4C', 'NDUFA4', 'PHF14', 'THSD7A', 'TMEM106B', 'VWDE', 'SCIN', 'ARL4A', 'SEMA3E', 'PCLO', 'CACNA2D1', 'HGF', 'YKT6', 'GCK', 'MYL7', 'POLD2', 'AEBP1', 'POLM', 'BLVRA', 'COA1', 'STK17A', 'HECW1', 'MRPL32', 'PSMA2', 'C4H7 or f25', 'MIR2421', 'GLI3', 'GRM8', 'ZNF800', 'GCC1', 'ARF5', 'FSCN3', 'PAX4', 'SND1', 'LRRC4', 'MIR129-1', 'LEP', 'RBM28', 'PRRT4', 'IMPDH1', 'HILPDA', 'FAM71F2', 'FAM71F1', 'CALU', 'OPN1SW', 'TRNAP-AGG', 'CCDC136', 'FLNC', 'MIR2422', 'ATP6V1F', 'ATP6V1FNB', 'KCP', 'IRF5', 'TNPO3', 'MIR1843', 'TSPAN33', 'SMO', 'AHCYL2', 'STRIP2', 'SMKR1', 'NRF1', 'MIR182', 'MIR96', 'MIR183', 'KIAA1549', 'ZC3HAV1L', 'ZC3HAV1', 'TTC26', 'UBN2', 'TRNAR-CCU', 'FMC1', 'KLRG2', 'CLEC2L', 'HIPK2', 'TBXAS1', 'PARP12', 'KDM7A', 'SLC37A3', 'RAB19', 'MKRN1', 'DENND2A', 'ADCK2', 'NDUFB2', 'BRAF', 'MRPS33', 'TMEM178B', 'TRNAC-GCA', 'LOC112446655', 'LOC107132464', 'NUDT4', 'UBE2N', 'LOC101905513', 'MRPL42', 'SOCS2', 'CRADD', 'LOC104972373', 'LOC112446656', 'PLXNC1', 'LOC112446657', 'CEP83', 'LOC100848598', 'TMCC3', 'LOC112446658', 'NDUFA12', 'NR2C1', 'LOC112446659', 'FGD6', 'LOC112446660', 'MIR331', 'LOC784037', 'METAP2', 'USP44', 'LOC101906280', 'LOC112446661', 'MUCL1', 'LOC789659', 'exon', 'GLYCAM1', 'PPP1R1A', 'PDE1B', 'NCKAP1L', 'LOC112446662', 'GTSF1', 'ITGA5', 'LOC112446664', 'LOC112446663', 'ZNF385A', 'GPR84', 'COPZ1', 'MIR148B', 'LOC534520', 'NFE2', 'HNRNPA1', 'CBX5', 'SMUG1', 'LOC101906546', 'LOC112446666', 'LOC112446665', 'LOC100847613', 'LOC107132469', 'HOXC4', 'HOXC5', 'MIR615', 'HOXC6', 'HOXC8', 'LOC112446667', 'HOXC9', 'MIR196A-2', 'HOXC10', 'LOC101907194', 'HOXC11', 'LOC101907241', 'HOXC12', 'HOXC13', 'LOC107132470', 'exon', 'LOC785891', 'exon', 'LOC112446847', 'CALCOCO1', 'LOC112446668', 'ATP5MC2', 'LOC112446669', 'LOC112446860', 'ATF7', 'NPFF', 'TARBP2', 'MAP3K12', 'PCBP2', 'LOC112446842', 'PRR13', 'LOC100140356', 'AMHR2', 'SP1', 'LOC101909736', 'LOC112446670', 'SP7', 'AAAS', 'C5H12orf10', 'PFDN5', 'ESPL1', 'MFSD5', 'LOC112446671', 'RARG', 'ITGB7', 'CSAD', 'SOAT2', 'IGFBP6', 'SPRYD3', 'TNS2', 'EIF4B', 'KRT18', 'LOC104976949', 'KRT8', 'KRT78', 'KRT79', 'KRT4', 'KRT3', 'LOC100336907', 'LOC112446636', 'KRT76', 'KRT77', 'KRT1', 'KRT2', 'KRT73', 'KRT72', 'KRT74', 'KRT71', 'KRT5', 'KRT6A', 'KRT6B', 'KRT6C', 'KRT75', 'LOC615589', 'KRT82', 'KRT84', 'KRT85', 'KRT89', 'KRT83', 'KRT86', 'KRT81', 'LOC615451', 'LOC112446672', 'LOC112446673', 'LOC787600', 'LOC507184', 'KRT7', 'C5H12orf80', 'KRT80', 'LOC112446674', 'ATG101', 'LOC104972390', 'NR4A1', 'GRASP', 'ACVR1B', 'ACVRL1', 'ANKRD33', 'FIGNL2', 'LOC112446637', 'SCN8A', 'TRNAE-UUC', 'LOC100848672', 'LOC112446848', 'SLC4A8', 'LOC100296205', 'GALNT6', 'TRNAG-CCC', 'CELA1', 'BIN2', 'LOC112446675', 'SMAGP', 'DAZAP2', 'TRNAG-CCC', 'POU6F1', 'LOC100141052', 'TFCP2', 'CSRNP2', 'LETMD1', 'LOC112446676', 'SLC11A2', 'LOC781401', 'LOC112446869', 'LOC512464', 'LOC781439', 'LOC112441543', 'LOC104972396', 'LARP4', 'FAM186A', 'LOC112446900', 'LIMA1', 'CERS5', 'LOC101905299', 'COX14', 'LOC104972400', 'GPD1', 'SMARCD1', 'ASIC1', 'RACGAP1', 'AQP6', 'AQP5', 'AQP2', 'LOC104972401', 'FAIM2', 'TRNAC-GCA', 'BCDIN3D', 'NCKAP5L', 'MIR2425', 'TMBIM6', 'LOC112446678', 'FMNL3', 'PRPF40B', 'FAM186B', 'LOC104972402', 'MCRS1', 'KCNH3', 'SPATS2', 'DNAJC22', 'C1QL4', 'TROAP', 'LOC616853', 'PRPH', 'LOC100141266', 'LOC112446680', 'LOC104972403', 'TUBA1C', 'TUBA1A', 'LOC112446607', 'LOC112446638', 'TUBA1B', 'LMBR1L', 'DHH', 'RHEBL1', 'KMT2D', 'MIR2426', 'PRKAG1', 'DDN', 'WNT10B', 'LOC112446681', 'ARF3', 'FKBP11', 'CCDC65', 'RND1', 'DDX23', 'CACNB3', 'ADCY6', 'TEX49', 'LOC107132475', 'CCNT1', 'KANSL2', 'LOC112446865', 'LOC112446866', 'MIR1291', 'LOC783895', 'LALBA', 'LOC104972406', 'LOC617415', 'LOC526630', 'LOC614370', 'LOC515887', 'OR8S27 LOC506992', 'OR8S25 LOC781446', 'OR8S10 LOC509508', 'LOC781517', 'OR8S15 LOC507383', 'LOC781595', 'OR8S1', 'OR8S24 LOC504567', 'LOC781756', 'LOC781840', 'LOC101907855', 'C5H12orf54', 'OR8S2 LOC509817', 'OR8S26 LOC781968', 'OR8S3 LOC617388', 'LOC617380', 'LOC518129', 'LOC100300010', 'OR5BJ2 LOC523258', 'LOC100848234', 'ZNF641', 'H1-7  LOC784038', 'H1FNT', 'LOC513452', 'LOC619137', 'LOC101902265', 'LOC101905376', 'LOC104972407', 'OR10AD1', 'CCDC184', 'LOC100139168', 'ASB8', 'PFKM', 'SENP1', 'COL2A1', 'TMEM106C', 'VDR', 'LOC101905514', 'LOC101905666', 'HDAC7', 'SLC48A1', 'LOC101905586', 'RAPGEF3', 'LOC112446799', 'ENDOU', 'RPAP3', 'LOC112446682', 'LOC101902438', 'LOC112446683', 'LOC112446684', 'LOC112446685', 'LOC107132477', 'PCED1B', 'LOC100847695', 'AMIGO2', 'LOC112446608', 'SLC38A4', 'LOC112446686', 'LOC107132478', 'LOC112446800', 'SLC38A2', 'SLC38A1', 'LOC112446688', 'SCAF11', 'ARID2', 'ANO6', 'LOC784769', 'DBX2', 'NELL2', 'LOC101906916', 'TMEM117', 'TWF1', 'IRAK4', 'IRAK4', 'PUS7L', 'ADAMTS20', 'LOC534627', 'LOC112446902', 'LOC786089', 'TRNAS-GGA', 'LOC112446856', 'LOC112446801', 'MUC19', 'LOC534391', 'LRRK2', 'SLC2A13', 'C5H12orf40', 'ABCD2', 'LOC785955', 'LOC100847470', 'KIF21A', 'MIR2428', 'LOC112446895', 'LOC617654', 'CPNE8', 'PTPRR', 'LOC112446905', 'LOC112446692', 'PTPRB', 'MIR2284Z-5', 'KCNMB4', 'TRNAC-GCA', 'LOC112446691', 'CNOT2', 'LOC107131684', 'LOC104972423', 'MYRFL', 'RAB3IP', 'LOC107132482', 'BEST3', 'LRRC10', 'CCT2', 'FRS2', 'MIR2427', 'LOC100138933', 'YEATS4', 'LYZ1', 'LOC112446887', 'LOC112446915', 'LOC785803', 'LOC781146', 'LOC112446693', 'LOC112446695', 'exon', 'LOC112446889', 'LOC617219', 'LOC112446694', 'exon', 'LOC112446890', 'LYSB', 'LYZ2', 'LYZ1', 'LYZ3', 'LOC787241', 'LOC112446907', 'LYZ', 'CPSF6', 'TRNAC-GCA', 'LOC107132485', 'LOC112446864', 'LOC104969823', 'CPM', 'LOC112446696', 'MDM2', 'SRGAP1', 'RXYLT1', 'AVPR1A', 'LOC100140195', 'PPM1H', 'LOC112446702', 'LOC104972443', 'LOC784406', 'MIRLET7I', 'MON2', 'USP15', 'FAM19A2', 'LOC101903699', 'LOC101904412', 'ATP23', 'LOC112446704', 'CTDSP2', 'MIR26A-2', 'AVIL', 'TSFM', 'EEF1AKMT3', 'METTL1', 'CYP27B1', 'MARCH9', 'CDK4', 'TSPAN31', 'AGAP2', 'LOC112446705', 'OS9', 'LOC112446803', 'B4GALNT1', 'SLC26A10', 'ARHGEF25', 'DTX3', 'PIP4K2C', 'KIF5A', 'DCTN2', 'TRNAE-UUC', 'MBD6', 'DDIT3', 'MARS', 'MIR2430', 'ARHGAP9', 'GLI1', 'INHBE', 'INHBC', 'R3HDM2', 'STAC3', 'LOC112446707', 'LOC112446706', 'NDUFA4L2', 'SHMT2', 'NXPH4', 'LRP1', 'LOC112446855', 'MIR2431', 'STAT6', 'LOC101902542', 'LOC100336976', 'NEMP1', 'MYO1A', 'TAC3', 'ZBTB39', 'GPR182', 'LOC100295935', 'LOC522844', 'LOC112446612', 'LOC100139075', 'LOC112446804', 'RDH16', 'SDR9C7', 'LOC100294910', 'LOC100138638', 'LOC112446873', 'LOC112446872', 'HSD17B6', 'TRNAG-CCC', 'PRIM1', 'NACA', 'LOC784846', 'exon', 'PTGES3', 'ATP5F1B', 'LOC112446861', 'LOC112446708', 'MIR677', 'BAZ2A', 'RBMS2', 'GLS2', 'SPRYD4', 'MIP', 'TIMELESS', 'ApoN', 'STAT2', 'IL23A', 'MIR2432', 'LOC107132490', 'CNPY2', 'CS', 'LOC112446709', 'COQ10A', 'ANKRD52', 'MIR2433', 'NABP2', 'RNF41', 'LOC112446710', 'TRNAS-CGA', 'MYL6', 'MYL6B', 'LOC112446711', 'ESYT1', 'LOC101903253', 'ZC3H10', 'PA2G4', 'ERBB3', 'RPS26', 'IKZF4', 'SUOX', 'RAB5B', 'CDK2', 'PMEL', 'DGKA', 'PYM1', 'LOC107132498', 'MMP19', 'LOC507581', 'DNAJC14', 'ORMDL2', 'SARNP', 'GDF11', 'LOC101903534', 'CD63', 'RDH5', 'BLOC1S1', 'ITGA7', 'METTL7B', 'LOC520938', 'LOC112446881', 'OR10P1', 'OR6C4', 'LOC112446805', 'exon', 'LOC781363', 'OR2AP1', 'LOC101903758', 'LOC100847112', 'LOC615284', 'LOC618816', 'LOC506139', 'LOC526713', 'LOC782840', 'LOC510046', 'LOC112446806', 'LOC529303', 'LOC782659', 'LOC782624', 'LOC782591', 'exon', 'LOC782550', 'exon', 'LOC112446906', 'LOC100140445', 'GAS2L3', 'LOC112446714', 'LOC112446715', 'LOC112446713', 'ANO4', 'MIR2434', 'LOC101905784', 'SLC5A8', 'LOC101908204', 'UTP20', 'ARL1', 'LOC101902002', 'SPIC', 'MYBPC1', 'CHPT1', 'LOC112446716', 'SYCP3', 'GNPTAB', 'LOC101902154', 'DRAM1', 'LOC782673', 'LOC104972477', 'WASHC3', 'NUP37', 'LOC101904077', 'PARPBP', 'PMCH', 'LOC112446820', 'LOC783823', 'LOC112446717', 'IGF1', 'LOC112446897', 'LOC101902701', 'LOC112446839', 'PAH', 'ASCL1', 'LOC101906016', 'LOC112446884', 'LOC112446615', 'C5H12orf42', 'STAB2', 'NT5DC3', 'LOC505479', 'HSP90B1', 'C5H12orf73', 'TDG', 'GLT8D2', 'HCFC2', 'NFYB', 'MIR2435', 'TRNAA-UGC', 'LOC101906262', 'EID3', 'LOC112446721', 'CHST11', 'LOC112446720', 'SLC41A2', 'C5H12orf45', 'ALDH1L2', 'exon', 'LOC786352', 'LOC515697', 'exon', 'exon', 'LOC518495', 'exon', 'LOC788334', 'LOC524576', 'exon', 'LOC112446725', 'APOL3', 'LOC112446726', 'LOC619179', 'LOC101906044', 'APOL3', 'MYH9', 'LOC112446616', 'LOC112446838', 'TXN2', 'FOXRED2', 'EIF3D', 'CACNG2', 'IFT27', 'LOC101906435', 'PVALB', 'NCF4', 'CSF2RB', 'LOC788541', 'TEX33', 'TST', 'MPST', 'KCTD17', 'TMPRSS6', 'IL2RB', 'LOC510185', 'C1QTNF6', 'LOC112446727', 'SSTR3', 'RAC2', 'MIR1835', 'CYTH4', 'ELFN2', 'MFNG', 'CARD10', 'LOC112446845', 'LOC112446901', 'USP18', 'ALG10', 'KLHL42', 'MANSC4', 'MRPS35', 'LOC781532', 'REP15', 'PPFIBP1', 'C5H12orf71', 'LOC781688', 'SMCO2', 'LOC112446918', 'ARNTL2', 'STK38L', 'MED21', 'TM7SF3', 'FGFR1OP2', 'INTS13', 'LOC112446618', 'LOC112446733', 'ITPR2', 'SSPN', 'LOC107132515', 'BHLHE41', 'MIR2436', 'LOC112446734', 'LMNTD1', 'KRAS', 'LOC104972526', 'ETFRF1', 'CASC1', 'LRMP', 'LOC112446824', 'BCAT1', 'LOC100295631', 'SOX5', 'ETNK1', 'C2CD5', 'ST8SIA1', 'LOC112446735', 'LOC112446736', 'CMAS', 'ABCC9', 'KCNJ8', 'GYS2', 'SPX', 'GOLT1B', 'RECQL', 'TRNAW-CCA', 'PYROXD1', 'SLCO1A2', 'IAPP', 'SLCO1B3', 'LOC101905711', 'LOC112446909', 'SLCO1C1', 'PDE3A', 'TRNAC-ACA', 'LMO3', 'LOC618358', 'MGST1', 'SLC15A5', 'DERA', 'LOC338087', 'STRAP', 'LOC112446862', 'EPS8', 'TRNAC-GCA', 'PTPRO', 'RERG', 'LOC112446622', 'PDE6H', 'ARHGDIB', 'ERP27', 'MGP', 'ART4', 'SMCO3', 'C5H12orf60', 'WBP11', 'H2AFJ', 'LOC530773', 'GUCY2C', 'PLBD1', 'LOC504273', 'LOC100139276', 'ATF7IP', 'LOC112446913', 'LOC100139060', 'GRIN2B', 'TAS2R8', 'LOC104972542', 'YBX3', 'MAGOHB', 'KLRA1', 'LOC101902742', 'LOC101902704', 'LOC513869', 'LOC788694', 'LOC100140174', 'LOC112446743', 'KLRC1', 'LOC101904370', 'LOC104970137', 'LOC100847738', 'LOC101905165', 'LOC100336869', 'LOC101904903', 'KLRJ1', 'TRNAC-GCA', 'LOC100296778', 'LOC101905403', 'NKG2A', 'NKG2C', 'LOC100847813', 'KLRK1', 'KLRD1', 'LOC618565', 'LOC100848575', 'GABARAPL1', 'TMEM52B', 'OLR1', 'CLEC7A', 'CLEC1A', 'CLEC9A', 'CLEC1B', 'CLEC12B', 'CLEC12A', 'LOC785168', 'LOC784329', 'LOC100847268', 'KLRF2', 'CLEC2B', 'LOC617565', 'LOC509972', 'LOC784451', 'LOC101905748', 'LOC104972552', 'KLRF1', 'LOC101905801', 'CD69', 'LOC100294723', 'LOC107132519', 'LOC112446891', 'LOC100297676', 'LOC112446744', 'LOC104972545', 'LOC100297770', 'LOC100138381', 'OVOS2', 'LOC112446837', 'LOC506828', 'WC1.3', 'WC1', 'WC1-8', 'CD163L1', 'PEX5', 'CLSTN3', 'RBP5', 'C1RL', 'C1R', 'C1S', 'LPCAT3', 'EMG1', 'PHB2', 'MIR141', 'MIR200C', 'PTPN6', 'C5H12orf57', 'ATN1', 'ENO2', 'LRRC23', 'SPSB2', 'TPI1', 'USP5', 'CDCA3', 'GNB3', 'GPR162', 'CD4', 'LAG3', 'PTMS', 'MLF2', 'COPS7A', 'PIANP', 'ZNF384', 'ING4', 'ACRBP', 'LPAR5', 'CHD4', 'NOP2', 'IFFO1', 'GAPDH', 'NCAPD2', 'MIR2424', 'MRPL51', 'VAMP1', 'TAPBPL', 'CD27', 'LTBR', 'SCNN1A', 'TNFRSF1A', 'PLEKHG6', 'CD9', 'VWF', 'LOC112446761', 'ANO2', 'LOC100297751', 'NTF3', 'LOC104972566', 'LOC112446625', 'LOC112446626', 'KCNA5', 'KCNA1', 'KCNA6', 'GALNT8', 'NDUFA9', 'DYRK4', 'RAD51AP1', 'LOC100336013', 'FGF6', 'FGF23', 'LOC112446763', 'TIGAR', 'CCND2', 'LOC104972567', 'LOC107132523', 'LOC112446627', 'PARP11', 'CRACR2A', 'PRMT8', 'LOC100847686', 'LOC112446764', 'TSPAN11', 'TSPAN9', 'LOC101902968', 'LOC104972568', 'TEAD4', 'TULP3', 'RHNO1', 'FOXM1', 'LOC104972569', 'TEX52', 'NRIP2', 'ITFG2', 'FKBP4', 'DDX11', 'WASHC1', 'IQSEC3', 'LOC104972570', 'SLC6A12', 'LOC112446765', 'SLC6A13', 'KDM5A', 'LOC781777', 'CCDC77', 'B4GALNT3', 'LOC112446858', 'NINJ2', 'LOC104972574', 'LOC112446767', 'LOC112446903', 'MIR2437', 'LOC112446768', 'WNK1', 'RAD52', 'ERC1', 'LOC112446770', 'LOC112446769', 'WNT5B', 'FBXL14', 'ADIPOR2', 'LOC104972578', 'CACNA2D4', 'LRTM2', 'DCP1B', 'CACNA1C', 'TRNAY-GUA', 'LOC104970340', 'TMEM121B', 'HDHD5', 'ADA2', 'LOC104970683', 'CECR2', 'LOC112446914', 'BCL2L13', 'TRNAE-UUC', 'LOC104972584', 'BID', 'LOC104972586', 'SH3BP1', 'PDXP', 'LOC100847870', 'LGALS1', 'NOL12', 'MIR2438', 'TRIOBP', 'H1F0', 'GCAT', 'GALR3', 'ANKRD54', 'MIR658', 'EIF3L', 'MICALL1', 'C5H22orf23', 'POLR2F', 'SOX10', 'LOC101905166', 'PICK1', 'SLC16A8', 'BAIAP2L2', 'PLA2G6', 'MAFF', 'TMEM184B', 'CSNK1E', 'KCNJ4', 'KDELR3', 'DDX17', 'DMC1', 'FAM227A', 'LOC112446908', 'CBY1', 'TOMM22', 'JOSD1', 'GTPBP1', 'SUN2', 'DNAL4', 'NPTXR', 'CBX6', 'ADSL', 'SGSM3', 'MKL1', 'MIR2439', 'MCHR1', 'SLC25A17', 'ST13', 'XPNPEP3', 'DNAJB7', 'RBX1', 'MIR1281', 'EP300', 'L3MBTL2', 'MIR2441', 'CHADL', 'RANGAP1', 'ZC3H7B', 'TRNAG-UCC', 'TEF', 'TOB2', 'PHF5A', 'ACO2', 'POLR3H', 'TRNAM-CAU', 'CSDC2', 'PMM1', 'DESI1', 'XRCC6', 'SNU13', 'C5H22orf46', 'MEI1', 'CCDC134', 'SREBF2', 'MIR33A', 'SHISA8', 'TNFRSF13C', 'CENPM', 'SEPT3', 'WBP2NL', 'NAGA', 'PHETA2', 'SMDT1', 'NDUFA6', 'MGC127055', 'CYP2D14', 'MIR2442', 'TCF20', 'NFAM1', 'SERHL2', 'TRNAG-CCC', 'RRP7A', 'POLDIP3', 'CYB5R3', 'A4GALT', 'TACR3', 'CENPE', 'BDH2', 'SLC9B2', 'NHEDC1', 'CISD2', 'UBE2D3', 'MANBA', 'NFKB1', 'SLC39A8', 'GPRIN3', 'TIGD2', 'FAM13A', 'LOC104972724', 'HERC3', 'LOC100847719', 'NAP1L5', 'PIGY', 'PYURF', 'HERC5', 'HERC6', 'PPM1K', 'ABCG2', 'LOC112447205', 'LOC781421', 'PKD2', 'SPP1', 'LOC112447053', 'MEPE', 'IBSP', 'LOC112447150', 'TRNAA-CGC', 'LAP3', 'MED28', 'FAM184B', 'NCAPG', 'DCAF16', 'LCORL', 'SLIT2', 'LOC100138737', 'MIR218-1', 'PACRGL', 'KCNIP4', 'LOC112447054', 'LOC112447228', 'LOC782172', 'ADGRA3', 'LOC101904854', 'GBA3', 'LOC112447151', 'LOC104972733', 'LOC112447204', 'PPARGC1A', 'LOC112447206', 'DHX15', 'LOC100138258', 'LOC104968852', 'SOD3', 'CCDC149', 'LOC112447152', 'LGI2', 'LOC112447056', 'SEPSECS', 'PI4K2B', 'ZCCHC4', 'LOC101905518', 'ANAPC4', 'exón', 'LOC112447064', 'LOC112447065', 'LOC101907152', 'LOC112447066', 'LOC112447067', 'TRNAI-AAU', 'KLF3', 'LOC112447069', 'LOC112447068', 'TLR10', 'TLR6', 'FAM114A1', 'TMEM156', 'KLHL5', 'WDR19', 'LOC112447070', 'RFC1', 'KLB', 'RPL9', 'LIAS', 'UGDH', 'SMIM14', 'UBE2K', 'LOC112447195', 'PDS5A', 'TRNAG-CCC', 'LOC112447155', 'N4BP2', 'RHOH', 'TRNAG-GCC', 'CHRNA9', 'LOC112447071', 'RBM47', 'LOC104968867', 'KIAA1211', 'AASDH', 'PPAT', 'PAICS', 'SRP72', 'ARL9', 'THEGL', 'HOPX', 'SPINK2', 'RESTB', 'NOA1', 'POLR2B', 'IGFBP7', 'EPHA5', 'LOC101908113', 'CENPC', 'STAP1', 'UBA6', 'GNRHR', 'LOC100140490', 'LOC100140490', 'TMPRSS11BNL', 'TMPRSS11D', 'TMPRSS11A', 'LOC518437', 'TMPRSS11F', 'TMPRSS11BNL', 'LOC613882', 'LOC100140029', 'TMPRSS11E', 'exón', 'LOC101903916', 'LOC112447230', 'YTHDC1', 'LOC112447089', 'LOC104968907', 'exón', 'LOC781280', 'exón', 'LOC112447019', 'LOC100138004', 'LOC615303', 'LOC100847153', 'exón', 'LOC100140261', 'LOC540615', 'LOC100138908', 'LOC100138236', 'exón', 'UGT2B10', 'LOC104968908', 'exón', 'LOC100296421', 'LOC781649', 'exón', 'LOC781441', 'exón', 'LOC540544', 'LOC781478', 'exón', 'MGC152010', 'LOC530553', 'LOC530356', 'exón', 'LOC526979', 'LOC781553', 'exón', 'LOC781988', 'LOC782370', 'UGT2A1', 'SULT1B1', 'SULT1D1', 'SULT1E1', 'LOC112447162', 'LOC112447092', 'LOC112447093', 'CSN1S1', 'CSN2', 'HSTN', 'STATH', 'CSN1S2', 'LOC112447094', 'LOC100298118', 'LOC112447163', 'ODAM', 'FDCSP', 'CSN3', 'LOC104968905', 'CABS1', 'LOC101905137', 'LOC112447095', 'LOC787045', 'LOC104970052', 'MUC7', 'LOC100848253', 'exón', 'AMTN', 'LOC112447096', 'LOC112447096', 'AMBN', 'ENAM', 'JCHAIN', 'LOC101905786', 'UTP3', 'RUFY3', 'LOC112447097', 'GRSF1', 'LOC112447098', 'MOB1B', 'DCK', 'LOC112447099', 'SLC4A4', 'LOC782958', 'GC', 'NPFFR2', 'ADAMTS3', 'TRNAC-GCA', 'LOC112447182', 'LOC112447164', 'COX18', 'ALBA', 'AFP', 'AFM', 'LOC100140503', 'RASSF6', 'LOC112447100', 'LOC112447101', 'LOC107132573', 'LOC107132573', 'CXCL8', 'LOC534181', 'LOC534181', 'LOC112447102', 'CXCL5', 'PPBP', 'PF4', 'CXCL2', 'LOC100847175', 'ANKRD17', 'LOC101906736', 'CXCL3', 'GRO1', 'MTHFD2L', 'LOC104968898', 'EPGN', 'EREG', 'LOC112447165', 'AREG', 'BTC', 'LOC101907265', 'PARM1', 'exón', 'LOC783750', 'RCHY1', 'CABS1', 'THAP6', 'ODAPH', 'LOC100299715', 'CDKL2', 'G3BP2', 'USO1', 'LOC112447196', 'PPEF2', 'LOC783539', 'TRNAG-CCC', 'NAAA', 'SDAD1', 'CXCL9', 'ART3', 'CXCL10', 'CXCL11', 'NUP54', 'SCARB2', 'FAM47E', 'exón', 'LOC107132577', 'STBD1', 'CCDC158', 'LOC112447225', 'SHROOM3', 'LOC101908208', 'TRNAG-CCC', 'TRNAA-UGC', 'SOWAHB', 'SET11', 'SE11', 'LOC101902460', 'exón', 'CCNI', 'LOC101901983', 'CCNG2', 'LOC100139130', 'LOC100137799', 'CXCL13', 'LOC100300832', 'CNOT6L', 'MRPL1', 'UBA52', 'KXD1', 'FKBP8', 'ELL', 'ISYNA1', 'SSBP4 ', 'LRRC25', 'GDF15', 'PGPEP1', 'LSM4', 'JUND', 'IQCN', 'CIST1', 'PDE4C', 'RAB3A', 'MPV17L2', 'IFI30', 'PIK3R2', 'MAST3', 'IL12RB1', 'ARRDC2', 'KCNN1', 'CCDC124', 'SLC5A5', 'RPL18A ', 'JAK3', 'INSL3', 'B3GNT3', 'FCHO1', 'MAP1S', 'UNC13A', 'COLGALT1', 'FAM129C', 'PGLS', 'SLC27A1', 'NXNL1', 'TMEM221 ', 'MVB12A', 'CCDC194', 'PLVAP', 'GTPBP3', 'ANO8', 'DDA1', 'MRPL34', 'ABHD8', 'ANKLE1', 'BABAM1', 'USHBP1', 'NR2F6', 'OCEL1', 'USE1', 'MYO9B', 'HAUS8', 'CPAMD8', 'F2RL3', 'SIN3B', 'NWD1', 'TMEM38A', 'SMIM7', 'MED26', 'SLC35E1', 'CHERP', 'C7H19orf44', 'CALR3', 'EPS15L1', 'PTPRS', 'KDM4B', 'UHRF1', 'ARRDC5', 'PLIN3', 'TICAM1', 'FEM1A', 'DPP9', 'MYDGF', 'TNFAIP8L1', 'SEMA6B', 'LRG1', 'PLIN5', 'PLIN4', 'HDGFL2', 'UBXN6', 'CHAF1A', 'SH3GL1', 'MPND', 'STAP2', 'FSD1', 'TMIGD2', 'SHD', 'YJU2', 'EBI3', 'SIRT6', 'CREB3L3', 'MAP2K2', 'ZBTB7A', 'PIAS4', 'EEF2', 'DAPK3', 'NMRK2', 'ATCAY', 'ZFR2', 'MATK', 'RAX2', 'MRPL54', 'APBA3', 'TJP3', 'PIP5K1C', 'CACTIN', 'TBXA2R', 'GIPC3', 'HMG20B', 'FZR1', 'DOHH', 'SMIM24', 'NFIC', 'CELF5', 'NCLN', 'S1PR4', 'GNA15', 'GNA11', 'AES', 'TLE2', 'TLE6', 'ZNF555', 'ZNF554', 'THOP1', 'SGTA', 'SLC39A3', 'DIRAS1', 'FBXL21', 'LECT2', 'TGFBI', 'SMAD5', 'SMIM32', 'TRPC7', 'SPOCK1', 'KLHL3', 'MIR874', 'TRNAR-ACG', 'HNRNPA0', 'MYOT', 'PKD2L2', 'FAM13B', 'TRNAG-UCC', 'WNT8A', 'NME5', 'BRD8', 'KIF20A', 'CDC23', 'GFRA3', 'TRNAE-UUC', 'CDC25C', 'SLBP2', 'FAM53C', 'MIR2459', 'KDM3B', 'REEP2', 'EGR1', 'ETF1', 'HSPA9', 'CTNNA1', 'UBE2D2', 'CXXC5', 'PSD2', 'NRG2', 'PURA', 'IGIP', 'CYSTM1', 'PFDN1', 'HBEGF', 'SLC4A9', 'TRNAE-CUC', 'ANKHD1', 'EIF4EBP3', 'SRA1', 'APBB3', 'SLC35A4', 'CD14', 'TMCO6', 'NDUFA2', 'IK', 'WDR55', 'DND1', 'HARS', 'HARS2', 'ZMAT2', 'PCDHA13', 'PCDHA3', 'PCDHB1', 'PCDHB8', 'PCDHB14', 'PCDHB11', 'SLC25A2', 'TAF7', 'PCDHGA2', 'PCDHGB4', 'PCDHGA8', 'PCDHGC3', 'DIAPH1', 'HDAC3', 'RELL2', 'FCHSD1', 'ARAP3', 'PCDH1', 'TRNAC-GCA', 'KIAA0141', 'PCDH12', 'RNF14', 'GNPDA1', 'FAM172A', 'KIAA0825', 'SLF1', 'MCTP1', 'FAM81B', 'TTC37', 'ARSK', 'GPR150', 'RFESD', 'SPATA9', 'RHOBTB3', 'GLRX', 'ELL2', 'PCSK1', 'CAST', 'ERAP1', 'ERAP2', 'LNPEP', 'LIX1', 'RIOK2', 'RGMB', 'CHD1', 'FZD3', 'FBXO16', 'LOC112447957', 'PNOC', 'ELP3', 'NUGGC', 'SCARA5', 'PBK', 'ESCO2', 'CCDC25', 'SCARA3', 'CLU', 'TMEM215', 'LOC539009', 'ADAMDEC1', 'ADAM7', 'NEFM', 'NEFL', 'LOC112447960', 'LOC100335268', 'DOCK5', 'MIR2285AE', 'LOC112447820', 'GNRH1', 'KCTD9', 'LOC112447821', 'CDCA2', 'EBF2', 'ASTN2', 'TRIM32', 'LOC112447849', 'TRNAS-AGA', 'TLR4', 'L3MBTL3', 'SAMD3', 'TRNAC-GCA', 'TMEM200A', 'LOC104969590', 'SMLR1', 'EPB41L2', 'LOC112441525', 'TRNAE-UUC', 'AKAP7', 'LOC101904131', 'ARG1', 'MED23', 'ENPP3', 'ENPP1', 'CTGF', 'LOC101904601', 'MOXD1', 'STX7', 'TAAR9', 'TAAR8', 'LOC783380', 'TAAR6', 'LOC785256', 'LOC100336507', 'LOC785080', 'LOC613867', 'LOC785236', 'LOC100297846', 'LOC511136', 'LOC516101', 'LOC782807', 'LOC616737', 'LOC785502', 'LOC783649', 'TAAR5', 'TAAR4', 'TAAR2', 'VNN1', 'LOC112448062', 'VNN3', 'VNN2', 'LOC112448135', 'LOC101906317', 'SLC18B1', 'RPS12', 'LOC112448162', 'LOC112448170', 'LOC112448169', 'LOC104969595', 'EYA4', 'MTFR2', 'BCLAF1', 'MAP7', 'TRNAG-CCC', 'MAP3K5', 'PEX7', 'SLC35D3', 'IL20RA', 'IL22RA2', 'IFNGR1', 'TRNAC-GCA', 'OLIG3', 'LOC112448140', 'LOC104969604', 'TNFAIP3', 'LOC112448141', 'PERP', 'ARFGEF3', 'SMIM28', 'HEBP2', 'NHSL1', 'CCDC28A', 'ECT2L', 'REPS1', 'ABRACL', 'HECA', 'TXLNB', 'CITED2', 'LOC107132781', 'LOC112448069', 'NEO1', 'HCN4', 'REC114', 'NPTN', 'CD276', 'C10H15orf59', 'TBC1D21', 'LOC104973073', 'SDR39U1', 'KHNYN', 'NYNRIN', 'LOC112448387', 'NFATC4', 'LOC101905010', 'RIPK3', 'ADCY4', 'LTB4R', 'LTB4R2', 'CIDEB', 'NOP9', 'DHRS1', 'RABGGTA', 'TGM1', 'TINF2', 'GMPR2', 'NEDD8', 'MDP1', 'CHMP4A', 'TSSK4', 'LOC112448388', 'TM9SF1', 'IPO4', 'REC8', 'IRF9', 'RNF31', 'PSME2', 'EMC9', 'PSME1', 'FITM1', 'DCAF11', 'PCK2', 'NRL', 'CPNE6', 'CARMIL3', 'DHRS4', 'LOC112448390', 'LOC112448551', 'LOC101905427', 'JPH4', 'AP1G2', 'THTPA', 'ZFHX2', 'NGDN', 'MIR208B', 'MYH6', 'LOC112448392', 'MIR208A', 'CMTM5', 'IL25', 'EFS', 'SLC22A17', 'BCL2L2', 'PPP1R3E', 'HOMEZ', 'RNF212B', 'SLC7A8', 'LOC112448584', 'LOC112448665', 'CEBPE', 'LMLN2', 'C10H14orf119', 'ACIN1', 'LOC112448395', 'CDH24', 'PSMB11', 'PSMB5', 'C10H14orf93', 'AJUBA', 'HAUS4', 'PRMT5', 'REM2', 'CDKL4', 'LOC782845', 'MAP4K3', 'LOC112448973', 'TMEM178A', 'THUMPD2', 'SLC8A1', 'LOC112448760', 'LOC104973311', 'MRPL35', 'IMMT', 'PTCD3', 'LOC112448933', 'POLR1A', 'LOC112448932', 'LOC112448788', 'ST3GAL5', 'LOC112448789', 'TRNAE-UUC', 'ATOH8', 'LOC100300483', 'LOC104968634', 'LOC112448791', 'LOC616323', 'SFTPB', 'USP39', 'LOC112448792', 'C11H2orf68', 'TMEM150A', 'VAMP5', 'VAMP8', 'GGCX', 'MAT2A', 'LOC112448793', 'SH2D6', 'CAPG', 'ELMOD3', 'RETSAT', 'TGOLN2', 'TCF7L1', 'LOC104973382', 'LOC101907084', 'KCMF1', 'LOC112448961', 'LOC112448794', 'LOC112448795', 'TMSB10', 'LOC104973383', 'LOC112448796', 'DNAH6', 'LOC112448798', 'LOC112448955', 'SUCLG1', 'LOC101903367', 'LOC104973384', 'LOC112448896', 'LAMC3', 'AIF1L', 'NUP214', 'LOC112448845', 'LOC112448927', 'FAM78A', 'LOC112448846', 'PLPP7', 'PRRC2B', 'LOC112448913', 'LOC112448912', 'POMT1', 'UCK1', 'PRRT1B', 'RAPGEF1', 'LOC112448848', 'LOC112448847', 'MED27', 'LOC112448849', 'LOC100847981', 'NTNG2', 'SETX', 'LOC112448850', 'TTF1', 'CFAP77', 'BARHL1', 'DDX31', 'GTF3C4', 'AK8', 'SPACA9', 'TSC1', 'GFI1B', 'GTF3C5', 'CEL', 'RALGDS', 'GBGT1', 'LOC112448851', 'LOC112448852', 'LOC104975788', 'LOC618559', 'LOC100848610', 'PAEP', 'GLT6D1', 'LCN9', 'SOHLH1', 'KCNT1', 'LOC104973503', 'CAMSAP1', 'UBAC1', 'LOC112448853', 'NACC2', 'LOC101907995', 'TMEM250', 'LOC112448854', 'LOC112448855', 'LHX3', 'QSOX2', 'LOC787891', 'GPSM1', 'LOC101902280', 'DNLZ', 'CARD9', 'SNAPC4', 'ENTR1', 'PMPCA', 'INPP5E', 'SEC16A', 'NOTCH1', 'LOC112448856', 'MIR126', 'AGPAT2', 'LOC101902839', 'LOC101902895', 'FAM69B', 'LOC107132967', 'LOC112448923', 'LOC112448928', 'LOC100848307', 'LOC112448857', 'ABO', 'LOC112448956', 'SURF6', 'MED22', 'RPL7A', 'LOC112448907', 'LOC112448908', 'LOC112448904', 'LOC112448903', 'LOC112448905', 'LOC100139115', 'SURF2', 'SURF4', 'STKLD1', 'LOC107132968', 'REXO4', 'ADAMTS13', 'CACFD1', 'LOC112448858']\n"
     ]
    }
   ],
   "source": [
    "genes1 =[] #agregando una lista vacia\n",
    "for i in range(len(genes)):  #imprime los genes\n",
    "    genes1.append(genes[i]) #añadiendo\n",
    "\n",
    "print(genes1)"
   ]
  },
  {
   "cell_type": "code",
   "execution_count": 43,
   "metadata": {},
   "outputs": [
    {
     "name": "stdout",
     "output_type": "stream",
     "text": [
      "['TRNAG-UCC', 'ROBO1', 'TRNAC-GCA', 'TRNAC-ACA', 'MIR2286', 'LOC101910021', 'LOC112447295', 'CD47', 'IFT57', 'HHLA2', 'MYH15', 'CIP2A', 'DZIP3', 'TRAT1', 'MORC1', 'C1H3orf85', 'LOC112448290', 'LOC101903052', 'DPPA2', 'DPPA4']\n"
     ]
    }
   ],
   "source": [
    "genes1 =[] #agregando una lista vacia\n",
    "for i in range(20):  #imprime los 20 genes\n",
    "    genes1.append(genes[i]) #añadiendo\n",
    "\n",
    "print(genes1)"
   ]
  },
  {
   "cell_type": "code",
   "execution_count": 44,
   "metadata": {},
   "outputs": [
    {
     "name": "stdout",
     "output_type": "stream",
     "text": [
      "['na', 'A6QNM7', 'na', 'na', 'na', 'na', 'na', 'A0A4W2F3U1', 'Q5EA95', 'E1BCC8', 'A0A3Q1LHR1', 'Q2HJ27', 'F6RVN5', 'P23727', 'A0A4W2HUI0', 'na', 'na', 'na', 'F1MQI2', 'Q2YDF9']\n",
      "['na', 'UBP33_BOVIN', 'na', 'na', 'na', 'na', 'na', 'A0A4W2F3U1_BOBOX', 'IFT57_BOVIN', 'E1BCC8_BOVIN', 'A0A3Q1LHR1_BOVIN', 'MYC_BOVIN', 'F6RVN5_BOVIN', 'P85A_BOVIN', 'A0A4W2HUI0_BOBOX', 'na', 'na', 'na', 'F1MQI2_BOVIN', 'PCGF1_BOVIN']\n"
     ]
    }
   ],
   "source": [
    "def entry(data):   \n",
    "    url = \"https://www.uniprot.org/uniprot/?query=\"+str(data)+\"+bos+taurus&sort=score\"\n",
    "    html = requests.get(url)  #request, para que nos permita el acceso a toda la informacion \n",
    "    soup = BeautifulSoup(html.content, 'html.parser')\n",
    "    etiquetas = soup.find('tr',class_=\"entry selected-row\")\n",
    "    if etiquetas == None:\n",
    "        a=\"na\"\n",
    "        b=\"na\"\n",
    "    else:\n",
    "        a= etiquetas.find(\"td\",class_=\"entryID\").text\n",
    "        b= etiquetas.findAll(\"td\")[2].text\n",
    "    return ([a,b])\n",
    "    \n",
    "Entry= []\n",
    "Entry_name=[]\n",
    "for i in genes1:\n",
    "    Entry.append(entry(i)[0])\n",
    "    Entry_name.append(entry(i)[1])\n",
    "\n",
    "print(Entry)\n",
    "print(Entry_name)"
   ]
  },
  {
   "cell_type": "code",
   "execution_count": 34,
   "metadata": {},
   "outputs": [
    {
     "name": "stdout",
     "output_type": "stream",
     "text": [
      "['Na', 'Ubiquitin carboxyl-terminal hydrolase 33', 'Na', 'Na', 'Na', 'Na', 'Na', 'Integrin-associated protein', 'Intraflagellar transport protein 57 homolog', 'HERV-H LTR-associating 2', 'Myosin heavy chain 15', 'Myc proto-oncogene protein', 'RING-type E3 ubiquitin transferase', 'Phosphatidylinositol 3-kinase regulatory subunit alpha', 'CW-type domain-containing protein', 'Na', 'Na', 'Na', 'SAP domain-containing protein', 'Polycomb group RING finger protein 1']\n",
      "['Na', 'USP33', 'Na', 'Na', 'Na', 'Na', 'Na', 'CD47', 'IFT57', 'HHLA2', 'MYH15', 'MYC', 'DZIP3', 'PIK3R1', 'MORC1', 'Na', 'Na', 'Na', 'DPPA2', 'PCGF1']\n",
      "['Na', 'Bos taurus (Bovine)', 'Na', 'Na', 'Na', 'Na', 'Na', 'Bos indicus x Bos taurus (Hybrid cattle)', 'Bos taurus (Bovine)', 'Bos taurus (Bovine)', 'Bos taurus (Bovine)', 'Bos taurus (Bovine)', 'Bos taurus (Bovine)', 'Bos taurus (Bovine)', 'Bos indicus x Bos taurus (Hybrid cattle)', 'Na', 'Na', 'Na', 'Bos taurus (Bovine)', 'Bos taurus (Bovine)']\n",
      "['Na', 'Reviewed', 'Na', 'Na', 'Na', 'Na', 'Na', 'Unreviewed', 'Reviewed', 'Unreviewed', 'Unreviewed', 'Reviewed', 'Unreviewed', 'Reviewed', 'Unreviewed', 'Na', 'Na', 'Na', 'Unreviewed', 'Reviewed']\n"
     ]
    }
   ],
   "source": [
    "Protein = []\n",
    "Gene = []\n",
    "Organism = []\n",
    "Status = []\n",
    "\n",
    "for i in genes1:\n",
    "    URL=str(i) \n",
    "    URL= \"https://www.uniprot.org/uniprot/?query=\"+i+\"+Bos+taurus&sort=score\"\n",
    "    html = requests.get(URL)\n",
    "    soup = BeautifulSoup(html.content, 'html.parser')\n",
    "    \n",
    "    c =soup.find(\"table\",{\"class\":\"grid\"})\n",
    "    \n",
    "    if c != None : \n",
    "        entry = c.findAll(\"td\" , {\"class\":\"entryID\"})[0].find(\"a\").text\n",
    "        entry_name = c.findAll(\"td\")[3].text\n",
    "        Entry.append(entry)\n",
    "        Entry_name.append(entry_name)\n",
    "        url = \"https://www.uniprot.org/uniprot/\"+entry\n",
    "        html = requests.get(url)\n",
    "        soup = BeautifulSoup(html.content, 'html.parser')\n",
    "       \n",
    "        f =soup.find(\"div\",{\"id\":\"entry-overview\"})\n",
    "        #Protein\n",
    "        protein = f.find(\"div\" , {\"id\":\"content-protein\"}).find(\"h1\").text\n",
    "        Protein.append(protein)\n",
    "        #Gene\n",
    "        gene = f.find(\"div\", {\"id\":\"content-gene\"}).find(\"h2\").text\n",
    "        Gene.append(gene)\n",
    "        #Organism\n",
    "        organism = f.find(\"div\", {\"id\":\"content-organism\"}).find(\"em\").text\n",
    "        Organism.append(organism)\n",
    "        #Status\n",
    "        status = f.find(\"div\", {\"id\":\"content-status\"}).find(\"a\").find(\"span\").text\n",
    "        Status.append(status)\n",
    "        \n",
    "    else : \n",
    "        Entry.append(\"Na\")\n",
    "        Entry_name .append(\"Na\")\n",
    "        Protein.append(\"Na\")\n",
    "        Gene.append(\"Na\")\n",
    "        Organism.append(\"Na\")\n",
    "        Status.append(\"Na\")\n",
    "        \n",
    "    \n",
    "\n",
    "print(Protein)\n",
    "print(Gene)\n",
    "print(Organism)\n",
    "print(Status)"
   ]
  },
  {
   "cell_type": "code",
   "execution_count": 10,
   "metadata": {},
   "outputs": [
    {
     "name": "stdout",
     "output_type": "stream",
     "text": [
      "['axon guidance. cell migration. cellular response to starvation. centrosome duplication. endocytosis. negative regulation of protein binding. positive regulation of protein binding. protein deubiquitination. protein K48-linked deubiquitination. protein K63-linked deubiquitination. protein stabilization. regulation of autophagy. regulation of G protein-coupled receptor signaling pathway. ubiquitin-dependent protein catabolic process', 'ATP export. cellular response to interleukin-12. inflammatory response. monocyte aggregation. opsonization. positive regulation of cell population proliferation. positive regulation of inflammatory response. positive regulation of phagocytosis. positive regulation of T cell activation. regulation of interferon-gamma production. regulation of interleukin-10 production. regulation of interleukin-12 production. regulation of interleukin-6 production. regulation of nitric oxide biosynthetic process. regulation of tumor necrosis factor production. response to bacterium', 'activation of cysteine-type endopeptidase activity involved in apoptotic process. apoptotic process. intraciliary transport. non-motile cilium assembly. regulation of apoptotic process', 'positive regulation of activated T cell proliferation. positive regulation of cytokine production. regulation of cytokine production. T cell costimulation. T cell receptor signaling pathway', 'na', 'activation of cysteine-type endopeptidase activity involved in apoptotic process. cellular iron ion homeostasis. cellular response to DNA damage stimulus. chromatin remodeling. chromosome organization. intrinsic apoptotic signaling pathway. MAPK cascade. negative regulation of apoptotic process. negative regulation of cell division. negative regulation of monocyte differentiation. negative regulation of stress-activated MAPK cascade. positive regulation of cell population proliferation. positive regulation of cysteine-type endopeptidase activity involved in apoptotic process. positive regulation of DNA biosynthetic process. positive regulation of epithelial cell proliferation. positive regulation of fibroblast proliferation. positive regulation of response to DNA damage stimulus. positive regulation of transcription, DNA-templated. positive regulation of transcription by RNA polymerase II. regulation of apoptotic process. regulation of somatic stem cell population maintenance. regulation of telomere maintenance. regulation of transcription, DNA-templated. regulation of transcription by RNA polymerase II. response to drug. response to gamma radiation. response to radiation', 'protein polyubiquitination', 'cellular glucose homeostasis. cellular response to insulin stimulus. growth hormone receptor signaling pathway. insulin-like growth factor receptor signaling pathway. insulin receptor signaling pathway. negative regulation of apoptotic process. phosphatidylinositol 3-kinase signaling. phosphatidylinositol phosphorylation. positive regulation of endoplasmic reticulum unfolded protein response. positive regulation of glucose import. positive regulation of protein import into nucleus. positive regulation of protein localization to plasma membrane. positive regulation of RNA splicing. positive regulation of transcription by RNA polymerase II. protein stabilization. protein transport. regulation of phosphatidylinositol 3-kinase activity. response to endoplasmic reticulum stress. substrate adhesion-dependent cell spreading', 'behavioral fear response. DNA hypermethylation. DNA methylation involved in gamete generation. negative regulation of DNA-templated transcription, initiation. negative regulation of transposition. regulation of gene expression, epigenetic. spermatogenesis', 'na', 'histone H2A-K119 monoubiquitination']\n"
     ]
    }
   ],
   "source": [
    "#Biological Process\n",
    "Biology = []\n",
    "\n",
    "for i in genes1:\n",
    "    URL=str(i) #\n",
    "    URL= \"https://www.uniprot.org/uniprot/?query=\"+i+\"+Bos+taurus&sort=score\"\n",
    "    html = requests.get(URL)\n",
    "    soup = BeautifulSoup(html.content, 'html.parser')\n",
    "    \n",
    "    \n",
    "    c =soup.find(\"table\",{\"class\":\"grid\"})\n",
    "    \n",
    "    if c != None : \n",
    "        entry = c.findAll(\"td\" , {\"class\":\"entryID\"})[0].find(\"a\").text\n",
    "        entry_name = c.findAll(\"td\")[3].text\n",
    "        Entry.append(entry)\n",
    "        Entry_name.append(entry_name)\n",
    "        \n",
    "        url = \"https://www.uniprot.org/uniprot/\"+str(entry)\n",
    "        html = requests.get(url)\n",
    "        soup1 = BeautifulSoup(html.content, 'html.parser')\n",
    "        \n",
    "        function = soup1.find(\"div\", id=\"function\")\n",
    "        if function != None:\n",
    "            etiquetas2 = function.find(\"ul\", class_=\"noNumbering biological_process\")\n",
    "\n",
    "            if etiquetas2 != None:\n",
    "                biological = etiquetas2.findAll(\"a\",href=re.compile(\"https://www.ebi.ac.uk\"))\n",
    "\n",
    "                h=[]\n",
    "                for i in biological:\n",
    "                    h.append(i.text)\n",
    "                h = str(\". \".join(h))\n",
    "                Biology.append(h)\n",
    "            else:\n",
    "                Biology.append(\"na\")\n",
    "print(Biology)"
   ]
  },
  {
   "cell_type": "code",
   "execution_count": 15,
   "metadata": {},
   "outputs": [
    {
     "name": "stdout",
     "output_type": "stream",
     "text": [
      "['na', 'Hydrolase. Protease. Thiol protease', 'na', 'na', 'na', 'na', 'na', 'na', 'DNA-binding', 'na', 'Actin-binding. Motor protein. Myosin', 'Activator. DNA-binding', 'Transferase', 'na', 'na', 'na', 'na', 'na', 'na', 'Repressor']\n",
      "['na', 'Endocytosis. Ubl conjugation pathway', 'na', 'na', 'na', 'na', 'na', 'Cell adhesion', 'Apoptosis. Transcription. Transcription regulation', 'na', 'na', 'Transcription. Transcription regulation', 'na', 'Protein transport. Stress response. Transport', 'na', 'na', 'na', 'na', 'Transcription. Transcription regulation', 'Transcription. Transcription regulation']\n",
      "['na', 'Metal-binding. Zinc', 'na', 'na', 'na', 'na', 'na', 'na', 'na', 'na', 'ATP-binding. Nucleotide-binding', 'na', 'Metal-binding. Zinc', 'na', 'Metal-binding. Zinc', 'na', 'na', 'na', 'na', 'Metal-binding. Zinc']\n"
     ]
    }
   ],
   "source": [
    "#Keywords\n",
    "\n",
    "Molecular_funtion=[]\n",
    "Biological_process=[]\n",
    "Ligand=[]\n",
    "\n",
    "pagina=[]\n",
    "for i in genes1:\n",
    "    url = \"https://www.uniprot.org/uniprot/?query=\"+str(i)+\"+bos+taurus&sort=score\"\n",
    "    pagina.append(url)\n",
    "\n",
    "\n",
    "for i in pagina:\n",
    "    html = requests.get(i)\n",
    "    soup = BeautifulSoup(html.content, 'html.parser')\n",
    "    etiquetas = soup.find('tr',class_=\"entry selected-row\")\n",
    "    if etiquetas == None:\n",
    "        Molecular_funtion.append(\"na\")\n",
    "        Biological_process.append(\"na\")\n",
    "        Ligand.append(\"na\")\n",
    "    else:\n",
    "        a =etiquetas.find(\"td\",class_=\"entryID\").text\n",
    "        Entry.append(a)\n",
    "        url1 = \"https://www.uniprot.org/uniprot/\"+str(a)\n",
    "        html1 = requests.get(url1)\n",
    "        soup1 = BeautifulSoup(html1.content, 'html.parser')\n",
    "        function = soup1.find(\"div\", id=\"function\")\n",
    "        if function != None:\n",
    "            etiquetas3 = function.find(\"table\", class_=\"databaseTable\")\n",
    "            if etiquetas3 != None:\n",
    "                keywords = etiquetas3.findAll(\"tr\")\n",
    "                n=0\n",
    "                lista1=[] \n",
    "                lista2=[]\n",
    "                lista3 =[]\n",
    "                for i in keywords:\n",
    "                    if i.find(\"td\").text == \"Molecular function\":\n",
    "                        a = i.findAll(\"a\", href=re.compile(\"keywords\"))\n",
    "\n",
    "                        for i in a :\n",
    "                            lista1.append(i.text)\n",
    "                        lista1 = str(\". \".join(lista1))\n",
    "                        \n",
    "                    elif i.find(\"td\").text == \"Biological process\":\n",
    "                        a = i.findAll(\"a\", href=re.compile(\"keywords\"))\n",
    "                        for i in a :\n",
    "                            lista2.append(i.text)\n",
    "                        lista2 = str(\". \".join(lista2))\n",
    "                    elif i.find(\"td\").text == \"Ligand\":\n",
    "                        a = i.findAll(\"a\", href=re.compile(\"keywords\"))\n",
    "                        for i in a :\n",
    "                            lista3.append(i.text)\n",
    "                        lista3 = str(\". \".join(lista3))\n",
    "                if len(lista1)!=0:\n",
    "                    Molecular_funtion.append(lista1)\n",
    "                else:\n",
    "                    Molecular_funtion.append(\"na\")\n",
    "                if len(lista2)!=0:\n",
    "                    Biological_process.append(lista2)\n",
    "                else:\n",
    "                    Biological_process.append(\"na\")\n",
    "                if len(lista3) !=0:\n",
    "                    Ligand.append(lista3)\n",
    "                else:\n",
    "                    Ligand.append(\"na\")\n",
    "\n",
    "            else:\n",
    "                Molecular_funtion.append(\"na\")\n",
    "                Biological_process.append(\"na\")\n",
    "                Ligand.append(\"na\")\n",
    "        \n",
    "        else:\n",
    "            Molecular_funtion.append(\"na\")\n",
    "            Biological_process.append(\"na\")\n",
    "            Ligand.append(\"na\")\n",
    "print(Molecular_funtion)\n",
    "print(Biological_process)\n",
    "print(Ligand)"
   ]
  },
  {
   "cell_type": "code",
   "execution_count": 48,
   "metadata": {},
   "outputs": [],
   "source": [
    "import pandas as pd\n",
    "data = {'Gen abrev': genes1 ,'Entry': Entry,'Entry name': Entry_name,'Protein' : Protein,'Gene': Gene,'Organism' : Organism,\n",
    "        'Status': Status,'GO-Biological_process': Biology}\n"
   ]
  },
  {
   "cell_type": "code",
   "execution_count": null,
   "metadata": {},
   "outputs": [],
   "source": [
    "df = pd.DataFrame(data, columns = ['Gen abrev','Entry','Entry name','Protein','Gene','Organism','Status', \n",
    "                                       'GO-Biological_process'])\n",
    "df"
   ]
  }
 ],
 "metadata": {
  "kernelspec": {
   "display_name": "Python 3",
   "language": "python",
   "name": "python3"
  },
  "language_info": {
   "codemirror_mode": {
    "name": "ipython",
    "version": 3
   },
   "file_extension": ".py",
   "mimetype": "text/x-python",
   "name": "python",
   "nbconvert_exporter": "python",
   "pygments_lexer": "ipython3",
   "version": "3.8.5"
  }
 },
 "nbformat": 4,
 "nbformat_minor": 4
}
