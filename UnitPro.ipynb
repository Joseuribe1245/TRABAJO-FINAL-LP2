{
 "cells": [
  {
   "cell_type": "code",
   "execution_count": 1,
   "metadata": {},
   "outputs": [],
   "source": [
    "#IMPORTANDO LIBRERIAS\n",
    "import pandas as pd\n",
    "import numpy as np\n",
    "import matplotlib.pyplot as ptl\n",
    "import seaborn as sns\n",
    "from bs4 import BeautifulSoup \n",
    "import requests\n",
    "import re\n",
    "import urllib.request, urllib.parse, urllib.error"
   ]
  },
  {
   "cell_type": "code",
   "execution_count": 4,
   "metadata": {},
   "outputs": [],
   "source": [
    "#Explorando el archivo\n",
    "genes = []\n",
    "\n",
    "for i in range(11):  #las 11hojas del excel\n",
    "    if i == 0:\n",
    "        data = pd.read_excel(\"Genes identificados con vecinos.xlsx\",\n",
    "                    sheet_name=i,\n",
    "                     index_col=\"N°\",\n",
    "                    skiprows=4)\n",
    "    else:\n",
    "        data = pd.read_excel(\"Genes identificados con vecinos.xlsx\",\n",
    "                        sheet_name=i,\n",
    "                         index_col=\"N°\",\n",
    "                        skiprows=1)\n",
    "    data.to_csv(\"genes.csv\") #convierte en csv\n",
    "    \n",
    "    ef = pd.read_csv('genes.csv')\n",
    "    genes.extend(list(ef[\"Gen Abrev\"]))\n"
   ]
  },
  {
   "cell_type": "code",
   "execution_count": 5,
   "metadata": {},
   "outputs": [
    {
     "name": "stdout",
     "output_type": "stream",
     "text": [
      "['TRNAG-UCC', 'ROBO1', 'TRNAC-GCA', 'TRNAC-ACA', 'MIR2286', 'LOC101910021', 'LOC112447295', 'CD47', 'IFT57', 'HHLA2', 'MYH15', 'CIP2A', 'DZIP3', 'TRAT1', 'MORC1', 'C1H3orf85', 'LOC112448290', 'LOC101903052', 'DPPA2', 'DPPA4']\n"
     ]
    }
   ],
   "source": [
    "genes1 =[] #agregando una lista vacia\n",
    "for i in range(20):  #imprime los 20 genes\n",
    "    genes1.append(genes[i]) #añadiendo\n",
    "\n",
    "print(genes1)"
   ]
  },
  {
   "cell_type": "code",
   "execution_count": null,
   "metadata": {},
   "outputs": [],
   "source": []
  }
 ],
 "metadata": {
  "kernelspec": {
   "display_name": "Python 3",
   "language": "python",
   "name": "python3"
  },
  "language_info": {
   "codemirror_mode": {
    "name": "ipython",
    "version": 3
   },
   "file_extension": ".py",
   "mimetype": "text/x-python",
   "name": "python",
   "nbconvert_exporter": "python",
   "pygments_lexer": "ipython3",
   "version": "3.8.5"
  }
 },
 "nbformat": 4,
 "nbformat_minor": 4
}
