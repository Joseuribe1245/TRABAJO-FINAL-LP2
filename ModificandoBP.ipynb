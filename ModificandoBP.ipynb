{
 "cells": [
  {
   "cell_type": "code",
   "execution_count": 2,
   "metadata": {},
   "outputs": [],
   "source": [
    "import pandas as pd\n",
    "import numpy as np\n",
    "import matplotlib.pyplot as ptl\n",
    "import seaborn as sns\n",
    "from urllib.request import urlopen\n",
    "from bs4 import BeautifulSoup as soup\n",
    "import requests"
   ]
  },
  {
   "cell_type": "code",
   "execution_count": 3,
   "metadata": {},
   "outputs": [],
   "source": [
    "import pandas as pd\n",
    "import numpy as np\n",
    "import matplotlib.pyplot as ptl\n",
    "import seaborn as sns\n",
    "from bs4 import BeautifulSoup \n",
    "import requests\n",
    "import re\n",
    "import urllib.request, urllib.parse, urllib.error\n",
    "from urllib.request import urlopen"
   ]
  },
  {
   "cell_type": "code",
   "execution_count": 6,
   "metadata": {},
   "outputs": [
    {
     "name": "stdout",
     "output_type": "stream",
     "text": [
      "[' ', ' ', ' ', ' ', ' ', ' ']\n"
     ]
    }
   ],
   "source": [
    "#genes = [\"TRNAG-UCC\" , \"ROBO1\",\"TRNAC-GCA\",\"TRNAC-ACA\",\"MIR2286\",\"LOC101910021\",\"LOC112447295\",\"CD47\",\"IFT57\",\"HHLA2\",\n",
    "         #\"MYH15\",\"CIP2A\"]\n",
    "genes = [\"UBA52\",\"TRNAG-UCC\" , \"ROBO1\",\"TRNAC-GCA\",\"TRNAC-ACA\",\"MIR2286\"]\n",
    "#html = urllib.request.urlopen(\"https://www.uniprot.org/\").read()\n",
    "\n",
    "#https://www.uniprot.org/uniprot/?query=ROBO1+Bos+taurus&sort=score\n",
    "\n",
    "Entry = []\n",
    "Entry_name = []\n",
    "#Protrein = []\n",
    "#Gene = []\n",
    "#Organism = []\n",
    "#Status = []\n",
    "Biology=[]\n",
    "\n",
    "for i in genes:\n",
    "    URL=str(i) #\n",
    "    URL= \"https://www.uniprot.org/uniprot/?query=\"+i+\"+Bos+taurus&sort=score\"\n",
    "    uclient=urlopen(URL) \n",
    "    pagehtml=uclient.read()\n",
    "    uclient.close()\n",
    "    # convirtiendolo en formato soup \n",
    "    pagesoup=soup(pagehtml, \"html.parser\")\n",
    "    \n",
    "    \n",
    "    c =pagesoup.find(\"table\",{\"class\":\"grid\"})  #selecciono toda la tabla\n",
    "    \n",
    "    d =pagesoup.find(\"div\",{\"class\":\"content entry_view_content up_entry swissprot\"})  #TODO(fuciones,biolo...)\n",
    "    #e =pagesoup.find(\"div\",{\"class\":\"section \"}) #todas las funciones\n",
    "    f =pagesoup.find(\"class\",{\"ul\":\"noNumbering biological_process\"})  #selecciona toda la parte de biological process\n",
    "    \n",
    "    if c != None : \n",
    "        entry = c.findAll(\"td\" , {\"class\":\"entryID\"})[0].find(\"a\").text\n",
    "        entry_name = c.findAll(\"td\")[3].text\n",
    "        Entry.append(entry)\n",
    "        Entry_name.append(entry_name)\n",
    "     \n",
    "        \n",
    "        url = \"https://www.uniprot.org/uniprot/\"+entry\n",
    "        uclient=urlopen(URL) \n",
    "        pagehtml=uclient.read()\n",
    "        uclient.close()\n",
    "        # convirtiendolo en formato soup \n",
    "        pagesoup=soup(pagehtml, \"html.parser\")\n",
    "        \n",
    "        #f =pagesoup.find(\"class\",{\"id\":\"content entry_view_content up_entry swissprot\"})\n",
    "   \n",
    "    if f != None :\n",
    "        #print(e)  #no corre nada\n",
    "        biology = d.findAll(\"a\",{\"onclick\":\"window.ga('UniProt-Entry-View', 'click', 'Display-GO-Term');\"}).text\n",
    "        Biology.append(biology)\n",
    "    else : \n",
    "        Entry.append(\" \")\n",
    "        Entry_name .append(\" \")\n",
    "        Biology.append(\" \")\n",
    "\n",
    "#print(Entry)\n",
    "#print(Entry_name)\n",
    "#print(f)\n",
    "print(Biology)"
   ]
  },
  {
   "cell_type": "code",
   "execution_count": null,
   "metadata": {},
   "outputs": [],
   "source": []
  }
 ],
 "metadata": {
  "kernelspec": {
   "display_name": "Python 3",
   "language": "python",
   "name": "python3"
  },
  "language_info": {
   "codemirror_mode": {
    "name": "ipython",
    "version": 3
   },
   "file_extension": ".py",
   "mimetype": "text/x-python",
   "name": "python",
   "nbconvert_exporter": "python",
   "pygments_lexer": "ipython3",
   "version": "3.8.5"
  }
 },
 "nbformat": 4,
 "nbformat_minor": 4
}
