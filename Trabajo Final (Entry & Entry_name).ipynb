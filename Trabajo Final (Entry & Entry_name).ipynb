{
 "cells": [
  {
   "cell_type": "code",
   "execution_count": 5,
   "metadata": {},
   "outputs": [],
   "source": [
    "import pandas as pd\n",
    "import numpy as np\n",
    "import matplotlib.pyplot as ptl\n",
    "import seaborn as sns\n",
    "from bs4 import BeautifulSoup \n",
    "import requests\n",
    "import re\n",
    "import urllib.request, urllib.parse, urllib.error"
   ]
  },
  {
   "cell_type": "code",
   "execution_count": 6,
   "metadata": {},
   "outputs": [
    {
     "name": "stdout",
     "output_type": "stream",
     "text": [
      "['TRNAG-UCC', 'ROBO1', 'TRNAC-GCA', 'TRNAC-ACA', 'MIR2286', 'LOC101910021', 'LOC112447295', 'CD47', 'IFT57', 'HHLA2', 'MYH15', 'CIP2A', 'DZIP3', 'TRAT1', 'MORC1', 'C1H3orf85', 'LOC112448290', 'LOC101903052', 'DPPA2', 'DPPA4']\n"
     ]
    }
   ],
   "source": [
    "genes = []\n",
    "\n",
    "for i in range(11):\n",
    "    if i == 0:\n",
    "        data = pd.read_excel(\"Genes identificados con vecinos.xlsx\",\n",
    "                    sheet_name=i,\n",
    "                     index_col=\"N°\",\n",
    "                    skiprows=4)\n",
    "    else:\n",
    "        data = pd.read_excel(\"Genes identificados con vecinos.xlsx\",\n",
    "                        sheet_name=i,\n",
    "                         index_col=\"N°\",\n",
    "                        skiprows=1)\n",
    "    data.to_csv(\"genes.csv\")\n",
    "    \n",
    "    ef = pd.read_csv('genes.csv')\n",
    "    genes.extend(list(ef[\"Gen Abrev\"]))\n",
    "\n",
    "genes1 =[]\n",
    "for i in range(20):\n",
    "    genes1.append(genes[i])\n",
    "\n",
    "print(genes1)"
   ]
  },
  {
   "cell_type": "code",
   "execution_count": 7,
   "metadata": {},
   "outputs": [
    {
     "name": "stdout",
     "output_type": "stream",
     "text": [
      "['na', 'A6QNM7', 'na', 'na', 'na', 'na', 'na', 'A0A4W2F3U1', 'Q5EA95', 'E1BCC8', 'A0A3Q1LHR1', 'Q2HJ27', 'F6RVN5', 'P23727', 'A0A4W2HUI0', 'na', 'na', 'na', 'F1MQI2', 'Q2YDF9']\n",
      "['na', 'UBP33_BOVIN', 'na', 'na', 'na', 'na', 'na', 'A0A4W2F3U1_BOBOX', 'IFT57_BOVIN', 'E1BCC8_BOVIN', 'A0A3Q1LHR1_BOVIN', 'MYC_BOVIN', 'F6RVN5_BOVIN', 'P85A_BOVIN', 'A0A4W2HUI0_BOBOX', 'na', 'na', 'na', 'F1MQI2_BOVIN', 'PCGF1_BOVIN']\n"
     ]
    }
   ],
   "source": [
    "def entry(data):   \n",
    "    url = \"https://www.uniprot.org/uniprot/?query=\"+str(data)+\"+bos+taurus&sort=score\"\n",
    "    html = requests.get(url)\n",
    "    soup = BeautifulSoup(html.content, 'html.parser')\n",
    "    etiquetas = soup.find('tr',class_=\"entry selected-row\")\n",
    "    if etiquetas == None:\n",
    "        a=\"na\"\n",
    "        b=\"na\"\n",
    "    else:\n",
    "        a= etiquetas.find(\"td\",class_=\"entryID\").text\n",
    "        b= etiquetas.findAll(\"td\")[2].text\n",
    "    return ([a,b])\n",
    "    \n",
    "entrya= []\n",
    "entry_name=[]\n",
    "for i in genes1:\n",
    "    entrya.append(entry(i)[0])\n",
    "    entry_name.append(entry(i)[1])\n",
    "\n",
    "print(entrya)\n",
    "print(entry_name)"
   ]
  },
  {
   "cell_type": "code",
   "execution_count": null,
   "metadata": {},
   "outputs": [],
   "source": []
  }
 ],
 "metadata": {
  "kernelspec": {
   "display_name": "Python 3",
   "language": "python",
   "name": "python3"
  },
  "language_info": {
   "codemirror_mode": {
    "name": "ipython",
    "version": 3
   },
   "file_extension": ".py",
   "mimetype": "text/x-python",
   "name": "python",
   "nbconvert_exporter": "python",
   "pygments_lexer": "ipython3",
   "version": "3.8.5"
  }
 },
 "nbformat": 4,
 "nbformat_minor": 4
}
