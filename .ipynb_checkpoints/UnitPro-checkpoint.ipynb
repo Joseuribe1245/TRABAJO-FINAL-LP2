{
 "cells": [
  {
   "cell_type": "code",
   "execution_count": 1,
   "metadata": {},
   "outputs": [],
   "source": [
    "#IMPORTANDO LIBRERIAS\n",
    "import pandas as pd\n",
    "import numpy as np\n",
    "import matplotlib.pyplot as ptl\n",
    "import seaborn as sns\n",
    "from bs4 import BeautifulSoup \n",
    "import requests\n",
    "import re\n",
    "import urllib.request, urllib.parse, urllib.error"
   ]
  },
  {
   "cell_type": "code",
   "execution_count": 4,
   "metadata": {},
   "outputs": [],
   "source": [
    "#Explorando el archivo\n",
    "genes = []\n",
    "\n",
    "for i in range(11):  #las 11hojas del excel\n",
    "    if i == 0:\n",
    "        data = pd.read_excel(\"Genes identificados con vecinos.xlsx\",\n",
    "                    sheet_name=i,\n",
    "                     index_col=\"N°\",\n",
    "                    skiprows=4)\n",
    "    else:\n",
    "        data = pd.read_excel(\"Genes identificados con vecinos.xlsx\",\n",
    "                        sheet_name=i,\n",
    "                         index_col=\"N°\",\n",
    "                        skiprows=1)\n",
    "    data.to_csv(\"genes.csv\") #convierte en csv\n",
    "    \n",
    "    ef = pd.read_csv('genes.csv')\n",
    "    genes.extend(list(ef[\"Gen Abrev\"]))\n"
   ]
  },
  {
   "cell_type": "code",
   "execution_count": 5,
   "metadata": {},
   "outputs": [
    {
     "name": "stdout",
     "output_type": "stream",
     "text": [
      "['TRNAG-UCC', 'ROBO1', 'TRNAC-GCA', 'TRNAC-ACA', 'MIR2286', 'LOC101910021', 'LOC112447295', 'CD47', 'IFT57', 'HHLA2', 'MYH15', 'CIP2A', 'DZIP3', 'TRAT1', 'MORC1', 'C1H3orf85', 'LOC112448290', 'LOC101903052', 'DPPA2', 'DPPA4']\n"
     ]
    }
   ],
   "source": [
    "genes1 =[] #agregando una lista vacia\n",
    "for i in range(20):  #imprime los 20 genes\n",
    "    genes1.append(genes[i]) #añadiendo\n",
    "\n",
    "print(genes1)"
   ]
  },
  {
   "cell_type": "code",
   "execution_count": 7,
   "metadata": {},
   "outputs": [
    {
     "name": "stdout",
     "output_type": "stream",
     "text": [
      "['na', 'A6QNM7', 'na', 'na', 'na', 'na', 'na', 'A0A4W2F3U1', 'Q5EA95', 'E1BCC8', 'A0A3Q1LHR1', 'Q2HJ27', 'F6RVN5', 'P23727', 'A0A4W2HUI0', 'na', 'na', 'na', 'F1MQI2', 'Q2YDF9']\n",
      "['na', 'UBP33_BOVIN', 'na', 'na', 'na', 'na', 'na', 'A0A4W2F3U1_BOBOX', 'IFT57_BOVIN', 'E1BCC8_BOVIN', 'A0A3Q1LHR1_BOVIN', 'MYC_BOVIN', 'F6RVN5_BOVIN', 'P85A_BOVIN', 'A0A4W2HUI0_BOBOX', 'na', 'na', 'na', 'F1MQI2_BOVIN', 'PCGF1_BOVIN']\n"
     ]
    }
   ],
   "source": [
    "def entry(data):   \n",
    "    url = \"https://www.uniprot.org/uniprot/?query=\"+str(data)+\"+bos+taurus&sort=score\"\n",
    "    html = requests.get(url)  #request, para que nos permita el acceso a toda la informacion \n",
    "    soup = BeautifulSoup(html.content, 'html.parser')\n",
    "    etiquetas = soup.find('tr',class_=\"entry selected-row\")\n",
    "    if etiquetas == None:\n",
    "        a=\"na\"\n",
    "        b=\"na\"\n",
    "    else:\n",
    "        a= etiquetas.find(\"td\",class_=\"entryID\").text\n",
    "        b= etiquetas.findAll(\"td\")[2].text\n",
    "    return ([a,b])\n",
    "    \n",
    "Entry= []\n",
    "Entry_name=[]\n",
    "for i in genes1:\n",
    "    Entry.append(entry(i)[0])\n",
    "    Entry_name.append(entry(i)[1])\n",
    "\n",
    "print(Entry)\n",
    "print(Entry_name)"
   ]
  },
  {
   "cell_type": "code",
   "execution_count": 9,
   "metadata": {},
   "outputs": [
    {
     "name": "stdout",
     "output_type": "stream",
     "text": [
      "['Na', 'Ubiquitin carboxyl-terminal hydrolase 33', 'Na', 'Na', 'Na', 'Na', 'Na', 'Integrin-associated protein', 'Intraflagellar transport protein 57 homolog', 'HERV-H LTR-associating 2', 'Myosin heavy chain 15', 'Myc proto-oncogene protein', 'RING-type E3 ubiquitin transferase', 'Phosphatidylinositol 3-kinase regulatory subunit alpha', 'CW-type domain-containing protein', 'Na', 'Na', 'Na', 'SAP domain-containing protein', 'Polycomb group RING finger protein 1']\n",
      "['Na', 'USP33', 'Na', 'Na', 'Na', 'Na', 'Na', 'CD47', 'IFT57', 'HHLA2', 'MYH15', 'MYC', 'DZIP3', 'PIK3R1', 'MORC1', 'Na', 'Na', 'Na', 'DPPA2', 'PCGF1']\n",
      "['Na', 'Bos taurus (Bovine)', 'Na', 'Na', 'Na', 'Na', 'Na', 'Bos indicus x Bos taurus (Hybrid cattle)', 'Bos taurus (Bovine)', 'Bos taurus (Bovine)', 'Bos taurus (Bovine)', 'Bos taurus (Bovine)', 'Bos taurus (Bovine)', 'Bos taurus (Bovine)', 'Bos indicus x Bos taurus (Hybrid cattle)', 'Na', 'Na', 'Na', 'Bos taurus (Bovine)', 'Bos taurus (Bovine)']\n",
      "['Na', 'Reviewed', 'Na', 'Na', 'Na', 'Na', 'Na', 'Unreviewed', 'Reviewed', 'Unreviewed', 'Unreviewed', 'Reviewed', 'Unreviewed', 'Reviewed', 'Unreviewed', 'Na', 'Na', 'Na', 'Unreviewed', 'Reviewed']\n"
     ]
    }
   ],
   "source": [
    "Protrein = []\n",
    "Gene = []\n",
    "Organism = []\n",
    "Status = []\n",
    "\n",
    "for i in genes1:\n",
    "    URL=str(i) #\n",
    "    URL= \"https://www.uniprot.org/uniprot/?query=\"+i+\"+Bos+taurus&sort=score\"\n",
    "    html = requests.get(URL)\n",
    "    soup = BeautifulSoup(html.content, 'html.parser')\n",
    "    \n",
    "    c =soup.find(\"table\",{\"class\":\"grid\"})\n",
    "    \n",
    "    if c != None : \n",
    "        entry = c.findAll(\"td\" , {\"class\":\"entryID\"})[0].find(\"a\").text\n",
    "        entry_name = c.findAll(\"td\")[3].text\n",
    "        Entry.append(entry)\n",
    "        Entry_name.append(entry_name)\n",
    "        url = \"https://www.uniprot.org/uniprot/\"+entry\n",
    "        html = requests.get(url)\n",
    "        soup = BeautifulSoup(html.content, 'html.parser')\n",
    "       \n",
    "        f =soup.find(\"div\",{\"id\":\"entry-overview\"})\n",
    "        #Protrein\n",
    "        protrein = f.find(\"div\" , {\"id\":\"content-protein\"}).find(\"h1\").text\n",
    "        Protrein.append(protrein)\n",
    "        #Gene\n",
    "        gene = f.find(\"div\", {\"id\":\"content-gene\"}).find(\"h2\").text\n",
    "        Gene.append(gene)\n",
    "        #Organism\n",
    "        organism = f.find(\"div\", {\"id\":\"content-organism\"}).find(\"em\").text\n",
    "        Organism.append(organism)\n",
    "        #Status\n",
    "        status = f.find(\"div\", {\"id\":\"content-status\"}).find(\"a\").find(\"span\").text\n",
    "        Status.append(status)\n",
    "        \n",
    "    else : \n",
    "        Entry.append(\"Na\")\n",
    "        Entry_name .append(\"Na\")\n",
    "        Protrein.append(\"Na\")\n",
    "        Gene.append(\"Na\")\n",
    "        Organism.append(\"Na\")\n",
    "        Status.append(\"Na\")\n",
    "        \n",
    "    \n",
    "\n",
    "print(Protrein)\n",
    "print(Gene)\n",
    "print(Organism)\n",
    "print(Status)"
   ]
  },
  {
   "cell_type": "code",
   "execution_count": 10,
   "metadata": {},
   "outputs": [
    {
     "name": "stdout",
     "output_type": "stream",
     "text": [
      "['axon guidance. cell migration. cellular response to starvation. centrosome duplication. endocytosis. negative regulation of protein binding. positive regulation of protein binding. protein deubiquitination. protein K48-linked deubiquitination. protein K63-linked deubiquitination. protein stabilization. regulation of autophagy. regulation of G protein-coupled receptor signaling pathway. ubiquitin-dependent protein catabolic process', 'ATP export. cellular response to interleukin-12. inflammatory response. monocyte aggregation. opsonization. positive regulation of cell population proliferation. positive regulation of inflammatory response. positive regulation of phagocytosis. positive regulation of T cell activation. regulation of interferon-gamma production. regulation of interleukin-10 production. regulation of interleukin-12 production. regulation of interleukin-6 production. regulation of nitric oxide biosynthetic process. regulation of tumor necrosis factor production. response to bacterium', 'activation of cysteine-type endopeptidase activity involved in apoptotic process. apoptotic process. intraciliary transport. non-motile cilium assembly. regulation of apoptotic process', 'positive regulation of activated T cell proliferation. positive regulation of cytokine production. regulation of cytokine production. T cell costimulation. T cell receptor signaling pathway', 'na', 'activation of cysteine-type endopeptidase activity involved in apoptotic process. cellular iron ion homeostasis. cellular response to DNA damage stimulus. chromatin remodeling. chromosome organization. intrinsic apoptotic signaling pathway. MAPK cascade. negative regulation of apoptotic process. negative regulation of cell division. negative regulation of monocyte differentiation. negative regulation of stress-activated MAPK cascade. positive regulation of cell population proliferation. positive regulation of cysteine-type endopeptidase activity involved in apoptotic process. positive regulation of DNA biosynthetic process. positive regulation of epithelial cell proliferation. positive regulation of fibroblast proliferation. positive regulation of response to DNA damage stimulus. positive regulation of transcription, DNA-templated. positive regulation of transcription by RNA polymerase II. regulation of apoptotic process. regulation of somatic stem cell population maintenance. regulation of telomere maintenance. regulation of transcription, DNA-templated. regulation of transcription by RNA polymerase II. response to drug. response to gamma radiation. response to radiation', 'protein polyubiquitination', 'cellular glucose homeostasis. cellular response to insulin stimulus. growth hormone receptor signaling pathway. insulin-like growth factor receptor signaling pathway. insulin receptor signaling pathway. negative regulation of apoptotic process. phosphatidylinositol 3-kinase signaling. phosphatidylinositol phosphorylation. positive regulation of endoplasmic reticulum unfolded protein response. positive regulation of glucose import. positive regulation of protein import into nucleus. positive regulation of protein localization to plasma membrane. positive regulation of RNA splicing. positive regulation of transcription by RNA polymerase II. protein stabilization. protein transport. regulation of phosphatidylinositol 3-kinase activity. response to endoplasmic reticulum stress. substrate adhesion-dependent cell spreading', 'behavioral fear response. DNA hypermethylation. DNA methylation involved in gamete generation. negative regulation of DNA-templated transcription, initiation. negative regulation of transposition. regulation of gene expression, epigenetic. spermatogenesis', 'na', 'histone H2A-K119 monoubiquitination']\n"
     ]
    }
   ],
   "source": [
    "#Biological Process\n",
    "Biology = []\n",
    "\n",
    "for i in genes1:\n",
    "    URL=str(i) #\n",
    "    URL= \"https://www.uniprot.org/uniprot/?query=\"+i+\"+Bos+taurus&sort=score\"\n",
    "    html = requests.get(URL)\n",
    "    soup = BeautifulSoup(html.content, 'html.parser')\n",
    "    \n",
    "    \n",
    "    c =soup.find(\"table\",{\"class\":\"grid\"})\n",
    "    \n",
    "    if c != None : \n",
    "        entry = c.findAll(\"td\" , {\"class\":\"entryID\"})[0].find(\"a\").text\n",
    "        entry_name = c.findAll(\"td\")[3].text\n",
    "        Entry.append(entry)\n",
    "        Entry_name.append(entry_name)\n",
    "        \n",
    "        url = \"https://www.uniprot.org/uniprot/\"+str(entry)\n",
    "        html = requests.get(url)\n",
    "        soup1 = BeautifulSoup(html.content, 'html.parser')\n",
    "        \n",
    "        function = soup1.find(\"div\", id=\"function\")\n",
    "        if function != None:\n",
    "            etiquetas2 = function.find(\"ul\", class_=\"noNumbering biological_process\")\n",
    "\n",
    "            if etiquetas2 != None:\n",
    "                biological = etiquetas2.findAll(\"a\",href=re.compile(\"https://www.ebi.ac.uk\"))\n",
    "\n",
    "                h=[]\n",
    "                for i in biological:\n",
    "                    h.append(i.text)\n",
    "                h = str(\". \".join(h))\n",
    "                Biology.append(h)\n",
    "            else:\n",
    "                Biology.append(\"na\")\n",
    "print(Biology)"
   ]
  },
  {
   "cell_type": "code",
   "execution_count": 15,
   "metadata": {},
   "outputs": [
    {
     "name": "stdout",
     "output_type": "stream",
     "text": [
      "['na', 'Hydrolase. Protease. Thiol protease', 'na', 'na', 'na', 'na', 'na', 'na', 'DNA-binding', 'na', 'Actin-binding. Motor protein. Myosin', 'Activator. DNA-binding', 'Transferase', 'na', 'na', 'na', 'na', 'na', 'na', 'Repressor']\n",
      "['na', 'Endocytosis. Ubl conjugation pathway', 'na', 'na', 'na', 'na', 'na', 'Cell adhesion', 'Apoptosis. Transcription. Transcription regulation', 'na', 'na', 'Transcription. Transcription regulation', 'na', 'Protein transport. Stress response. Transport', 'na', 'na', 'na', 'na', 'Transcription. Transcription regulation', 'Transcription. Transcription regulation']\n",
      "['na', 'Metal-binding. Zinc', 'na', 'na', 'na', 'na', 'na', 'na', 'na', 'na', 'ATP-binding. Nucleotide-binding', 'na', 'Metal-binding. Zinc', 'na', 'Metal-binding. Zinc', 'na', 'na', 'na', 'na', 'Metal-binding. Zinc']\n"
     ]
    }
   ],
   "source": [
    "#Keywords\n",
    "\n",
    "Molecular_funtion=[]\n",
    "Biological_process=[]\n",
    "Ligand=[]\n",
    "\n",
    "pagina=[]\n",
    "for i in genes1:\n",
    "    url = \"https://www.uniprot.org/uniprot/?query=\"+str(i)+\"+bos+taurus&sort=score\"\n",
    "    pagina.append(url)\n",
    "\n",
    "\n",
    "for i in pagina:\n",
    "    html = requests.get(i)\n",
    "    soup = BeautifulSoup(html.content, 'html.parser')\n",
    "    etiquetas = soup.find('tr',class_=\"entry selected-row\")\n",
    "    if etiquetas == None:\n",
    "        Molecular_funtion.append(\"na\")\n",
    "        Biological_process.append(\"na\")\n",
    "        Ligand.append(\"na\")\n",
    "    else:\n",
    "        a =etiquetas.find(\"td\",class_=\"entryID\").text\n",
    "        Entry.append(a)\n",
    "        url1 = \"https://www.uniprot.org/uniprot/\"+str(a)\n",
    "        html1 = requests.get(url1)\n",
    "        soup1 = BeautifulSoup(html1.content, 'html.parser')\n",
    "        function = soup1.find(\"div\", id=\"function\")\n",
    "        if function != None:\n",
    "            etiquetas3 = function.find(\"table\", class_=\"databaseTable\")\n",
    "            if etiquetas3 != None:\n",
    "                keywords = etiquetas3.findAll(\"tr\")\n",
    "                n=0\n",
    "                lista1=[] \n",
    "                lista2=[]\n",
    "                lista3 =[]\n",
    "                for i in keywords:\n",
    "                    if i.find(\"td\").text == \"Molecular function\":\n",
    "                        a = i.findAll(\"a\", href=re.compile(\"keywords\"))\n",
    "\n",
    "                        for i in a :\n",
    "                            lista1.append(i.text)\n",
    "                        lista1 = str(\". \".join(lista1))\n",
    "                        \n",
    "                    elif i.find(\"td\").text == \"Biological process\":\n",
    "                        a = i.findAll(\"a\", href=re.compile(\"keywords\"))\n",
    "                        for i in a :\n",
    "                            lista2.append(i.text)\n",
    "                        lista2 = str(\". \".join(lista2))\n",
    "                    elif i.find(\"td\").text == \"Ligand\":\n",
    "                        a = i.findAll(\"a\", href=re.compile(\"keywords\"))\n",
    "                        for i in a :\n",
    "                            lista3.append(i.text)\n",
    "                        lista3 = str(\". \".join(lista3))\n",
    "                if len(lista1)!=0:\n",
    "                    Molecular_funtion.append(lista1)\n",
    "                else:\n",
    "                    Molecular_funtion.append(\"na\")\n",
    "                if len(lista2)!=0:\n",
    "                    Biological_process.append(lista2)\n",
    "                else:\n",
    "                    Biological_process.append(\"na\")\n",
    "                if len(lista3) !=0:\n",
    "                    Ligand.append(lista3)\n",
    "                else:\n",
    "                    Ligand.append(\"na\")\n",
    "\n",
    "            else:\n",
    "                Molecular_funtion.append(\"na\")\n",
    "                Biological_process.append(\"na\")\n",
    "                Ligand.append(\"na\")\n",
    "        \n",
    "        else:\n",
    "            Molecular_funtion.append(\"na\")\n",
    "            Biological_process.append(\"na\")\n",
    "            Ligand.append(\"na\")\n",
    "print(Molecular_funtion)\n",
    "print(Biological_process)\n",
    "print(Ligand)"
   ]
  },
  {
   "cell_type": "code",
   "execution_count": null,
   "metadata": {},
   "outputs": [],
   "source": []
  }
 ],
 "metadata": {
  "kernelspec": {
   "display_name": "Python 3",
   "language": "python",
   "name": "python3"
  },
  "language_info": {
   "codemirror_mode": {
    "name": "ipython",
    "version": 3
   },
   "file_extension": ".py",
   "mimetype": "text/x-python",
   "name": "python",
   "nbconvert_exporter": "python",
   "pygments_lexer": "ipython3",
   "version": "3.8.5"
  }
 },
 "nbformat": 4,
 "nbformat_minor": 4
}
